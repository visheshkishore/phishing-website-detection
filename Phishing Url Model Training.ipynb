{
 "cells": [
  {
   "cell_type": "markdown",
   "metadata": {},
   "source": [
    "### 1. OBJECTIVE"
   ]
  },
  {
   "cell_type": "markdown",
   "metadata": {},
   "source": [
    "A phishing website is a common social engineering method that mimics trustful uniform resource locators (URLs) and webpages. The objective of this project is to train machine learning models and deep neural nets on the dataset created to predict phishing websites. Both phishing and benign URLs of websites are gathered to form a dataset and from them required URL and website content-based features are extracted. The performance level of each model is measures and compared."
   ]
  },
  {
   "cell_type": "code",
   "execution_count": 40,
   "metadata": {},
   "outputs": [],
   "source": [
    "import pandas as pd\n",
    "import numpy as np\n",
    "import seaborn as sns\n",
    "import matplotlib.pyplot as plt\n",
    "import sklearn\n",
    "from sklearn.metrics import confusion_matrix, classification_report\n",
    "from sklearn.metrics import precision_recall_curve\n",
    "from sklearn.metrics import plot_precision_recall_curve\n",
    "import matplotlib.pyplot as plt\n",
    "from sklearn.metrics import average_precision_score\n",
    "\n"
   ]
  },
  {
   "cell_type": "code",
   "execution_count": 2,
   "metadata": {},
   "outputs": [],
   "source": [
    "legitimate = pd.read_csv"
   ]
  },
  {
   "cell_type": "code",
   "execution_count": 3,
   "metadata": {},
   "outputs": [],
   "source": [
    "urldata = pd.read_csv('urldata.csv')"
   ]
  },
  {
   "cell_type": "code",
   "execution_count": 4,
   "metadata": {},
   "outputs": [
    {
     "data": {
      "text/html": [
       "<div>\n",
       "<style scoped>\n",
       "    .dataframe tbody tr th:only-of-type {\n",
       "        vertical-align: middle;\n",
       "    }\n",
       "\n",
       "    .dataframe tbody tr th {\n",
       "        vertical-align: top;\n",
       "    }\n",
       "\n",
       "    .dataframe thead th {\n",
       "        text-align: right;\n",
       "    }\n",
       "</style>\n",
       "<table border=\"1\" class=\"dataframe\">\n",
       "  <thead>\n",
       "    <tr style=\"text-align: right;\">\n",
       "      <th></th>\n",
       "      <th>Domain</th>\n",
       "      <th>IP</th>\n",
       "      <th>Have@</th>\n",
       "      <th>URL_Length</th>\n",
       "      <th>URL_Depth</th>\n",
       "      <th>Redirection</th>\n",
       "      <th>https_Domain</th>\n",
       "      <th>TinyURL</th>\n",
       "      <th>Prefix/Suffix</th>\n",
       "      <th>Mouse_over</th>\n",
       "      <th>Web_forwarding</th>\n",
       "      <th>Right_click</th>\n",
       "      <th>Label</th>\n",
       "    </tr>\n",
       "  </thead>\n",
       "  <tbody>\n",
       "    <tr>\n",
       "      <th>0</th>\n",
       "      <td>graphicriver.net</td>\n",
       "      <td>0</td>\n",
       "      <td>0</td>\n",
       "      <td>1</td>\n",
       "      <td>1</td>\n",
       "      <td>0</td>\n",
       "      <td>0</td>\n",
       "      <td>0</td>\n",
       "      <td>0</td>\n",
       "      <td>1</td>\n",
       "      <td>1</td>\n",
       "      <td>1</td>\n",
       "      <td>0</td>\n",
       "    </tr>\n",
       "    <tr>\n",
       "      <th>1</th>\n",
       "      <td>ecnavi.jp</td>\n",
       "      <td>0</td>\n",
       "      <td>0</td>\n",
       "      <td>1</td>\n",
       "      <td>1</td>\n",
       "      <td>1</td>\n",
       "      <td>0</td>\n",
       "      <td>0</td>\n",
       "      <td>0</td>\n",
       "      <td>1</td>\n",
       "      <td>1</td>\n",
       "      <td>1</td>\n",
       "      <td>0</td>\n",
       "    </tr>\n",
       "    <tr>\n",
       "      <th>2</th>\n",
       "      <td>hubpages.com</td>\n",
       "      <td>0</td>\n",
       "      <td>0</td>\n",
       "      <td>1</td>\n",
       "      <td>1</td>\n",
       "      <td>0</td>\n",
       "      <td>0</td>\n",
       "      <td>0</td>\n",
       "      <td>0</td>\n",
       "      <td>1</td>\n",
       "      <td>1</td>\n",
       "      <td>1</td>\n",
       "      <td>0</td>\n",
       "    </tr>\n",
       "    <tr>\n",
       "      <th>3</th>\n",
       "      <td>extratorrent.cc</td>\n",
       "      <td>0</td>\n",
       "      <td>0</td>\n",
       "      <td>1</td>\n",
       "      <td>3</td>\n",
       "      <td>0</td>\n",
       "      <td>0</td>\n",
       "      <td>0</td>\n",
       "      <td>0</td>\n",
       "      <td>1</td>\n",
       "      <td>1</td>\n",
       "      <td>1</td>\n",
       "      <td>0</td>\n",
       "    </tr>\n",
       "    <tr>\n",
       "      <th>4</th>\n",
       "      <td>icicibank.com</td>\n",
       "      <td>0</td>\n",
       "      <td>0</td>\n",
       "      <td>1</td>\n",
       "      <td>3</td>\n",
       "      <td>0</td>\n",
       "      <td>0</td>\n",
       "      <td>0</td>\n",
       "      <td>0</td>\n",
       "      <td>1</td>\n",
       "      <td>1</td>\n",
       "      <td>1</td>\n",
       "      <td>0</td>\n",
       "    </tr>\n",
       "    <tr>\n",
       "      <th>5</th>\n",
       "      <td>nypost.com</td>\n",
       "      <td>0</td>\n",
       "      <td>0</td>\n",
       "      <td>1</td>\n",
       "      <td>4</td>\n",
       "      <td>0</td>\n",
       "      <td>0</td>\n",
       "      <td>1</td>\n",
       "      <td>0</td>\n",
       "      <td>1</td>\n",
       "      <td>1</td>\n",
       "      <td>1</td>\n",
       "      <td>0</td>\n",
       "    </tr>\n",
       "    <tr>\n",
       "      <th>6</th>\n",
       "      <td>kienthuc.net.vn</td>\n",
       "      <td>0</td>\n",
       "      <td>0</td>\n",
       "      <td>1</td>\n",
       "      <td>2</td>\n",
       "      <td>0</td>\n",
       "      <td>0</td>\n",
       "      <td>0</td>\n",
       "      <td>0</td>\n",
       "      <td>1</td>\n",
       "      <td>1</td>\n",
       "      <td>1</td>\n",
       "      <td>0</td>\n",
       "    </tr>\n",
       "    <tr>\n",
       "      <th>7</th>\n",
       "      <td>thenextweb.com</td>\n",
       "      <td>0</td>\n",
       "      <td>0</td>\n",
       "      <td>1</td>\n",
       "      <td>6</td>\n",
       "      <td>0</td>\n",
       "      <td>0</td>\n",
       "      <td>0</td>\n",
       "      <td>0</td>\n",
       "      <td>1</td>\n",
       "      <td>1</td>\n",
       "      <td>1</td>\n",
       "      <td>0</td>\n",
       "    </tr>\n",
       "    <tr>\n",
       "      <th>8</th>\n",
       "      <td>tobogo.net</td>\n",
       "      <td>0</td>\n",
       "      <td>0</td>\n",
       "      <td>1</td>\n",
       "      <td>2</td>\n",
       "      <td>0</td>\n",
       "      <td>0</td>\n",
       "      <td>0</td>\n",
       "      <td>0</td>\n",
       "      <td>1</td>\n",
       "      <td>1</td>\n",
       "      <td>1</td>\n",
       "      <td>0</td>\n",
       "    </tr>\n",
       "    <tr>\n",
       "      <th>9</th>\n",
       "      <td>akhbarelyom.com</td>\n",
       "      <td>0</td>\n",
       "      <td>0</td>\n",
       "      <td>1</td>\n",
       "      <td>5</td>\n",
       "      <td>0</td>\n",
       "      <td>0</td>\n",
       "      <td>0</td>\n",
       "      <td>0</td>\n",
       "      <td>1</td>\n",
       "      <td>1</td>\n",
       "      <td>1</td>\n",
       "      <td>0</td>\n",
       "    </tr>\n",
       "  </tbody>\n",
       "</table>\n",
       "</div>"
      ],
      "text/plain": [
       "             Domain  IP  Have@  URL_Length  URL_Depth  Redirection  \\\n",
       "0  graphicriver.net   0      0           1          1            0   \n",
       "1         ecnavi.jp   0      0           1          1            1   \n",
       "2      hubpages.com   0      0           1          1            0   \n",
       "3   extratorrent.cc   0      0           1          3            0   \n",
       "4     icicibank.com   0      0           1          3            0   \n",
       "5        nypost.com   0      0           1          4            0   \n",
       "6   kienthuc.net.vn   0      0           1          2            0   \n",
       "7    thenextweb.com   0      0           1          6            0   \n",
       "8        tobogo.net   0      0           1          2            0   \n",
       "9   akhbarelyom.com   0      0           1          5            0   \n",
       "\n",
       "   https_Domain  TinyURL  Prefix/Suffix  Mouse_over  Web_forwarding  \\\n",
       "0             0        0              0           1               1   \n",
       "1             0        0              0           1               1   \n",
       "2             0        0              0           1               1   \n",
       "3             0        0              0           1               1   \n",
       "4             0        0              0           1               1   \n",
       "5             0        1              0           1               1   \n",
       "6             0        0              0           1               1   \n",
       "7             0        0              0           1               1   \n",
       "8             0        0              0           1               1   \n",
       "9             0        0              0           1               1   \n",
       "\n",
       "   Right_click  Label  \n",
       "0            1      0  \n",
       "1            1      0  \n",
       "2            1      0  \n",
       "3            1      0  \n",
       "4            1      0  \n",
       "5            1      0  \n",
       "6            1      0  \n",
       "7            1      0  \n",
       "8            1      0  \n",
       "9            1      0  "
      ]
     },
     "execution_count": 4,
     "metadata": {},
     "output_type": "execute_result"
    }
   ],
   "source": [
    "urldata.head(10)"
   ]
  },
  {
   "cell_type": "code",
   "execution_count": 5,
   "metadata": {},
   "outputs": [
    {
     "data": {
      "text/plain": [
       "(36716, 13)"
      ]
     },
     "execution_count": 5,
     "metadata": {},
     "output_type": "execute_result"
    }
   ],
   "source": [
    "urldata.shape"
   ]
  },
  {
   "cell_type": "code",
   "execution_count": 6,
   "metadata": {},
   "outputs": [
    {
     "data": {
      "text/plain": [
       "Index(['Domain', 'IP', 'Have@', 'URL_Length', 'URL_Depth', 'Redirection',\n",
       "       'https_Domain', 'TinyURL', 'Prefix/Suffix', 'Mouse_over',\n",
       "       'Web_forwarding', 'Right_click', 'Label'],\n",
       "      dtype='object')"
      ]
     },
     "execution_count": 6,
     "metadata": {},
     "output_type": "execute_result"
    }
   ],
   "source": [
    "urldata.columns"
   ]
  },
  {
   "cell_type": "code",
   "execution_count": 7,
   "metadata": {},
   "outputs": [
    {
     "name": "stdout",
     "output_type": "stream",
     "text": [
      "<class 'pandas.core.frame.DataFrame'>\n",
      "RangeIndex: 36716 entries, 0 to 36715\n",
      "Data columns (total 13 columns):\n",
      " #   Column          Non-Null Count  Dtype \n",
      "---  ------          --------------  ----- \n",
      " 0   Domain          36716 non-null  object\n",
      " 1   IP              36716 non-null  int64 \n",
      " 2   Have@           36716 non-null  int64 \n",
      " 3   URL_Length      36716 non-null  int64 \n",
      " 4   URL_Depth       36716 non-null  int64 \n",
      " 5   Redirection     36716 non-null  int64 \n",
      " 6   https_Domain    36716 non-null  int64 \n",
      " 7   TinyURL         36716 non-null  int64 \n",
      " 8   Prefix/Suffix   36716 non-null  int64 \n",
      " 9   Mouse_over      36716 non-null  int64 \n",
      " 10  Web_forwarding  36716 non-null  int64 \n",
      " 11  Right_click     36716 non-null  int64 \n",
      " 12  Label           36716 non-null  int64 \n",
      "dtypes: int64(12), object(1)\n",
      "memory usage: 3.6+ MB\n"
     ]
    }
   ],
   "source": [
    "urldata.info()"
   ]
  },
  {
   "cell_type": "markdown",
   "metadata": {},
   "source": [
    "## Visualizing the features "
   ]
  },
  {
   "cell_type": "code",
   "execution_count": 8,
   "metadata": {},
   "outputs": [
    {
     "data": {
      "image/png": "[encoded data removed]",
      "text/plain": [
       "<Figure size 720x720 with 12 Axes>"
      ]
     },
     "metadata": {
      "needs_background": "light"
     },
     "output_type": "display_data"
    }
   ],
   "source": [
    "#Plotting the data distribution\n",
    "urldata.hist(bins = 20,figsize = (10,10))\n",
    "plt.show()"
   ]
  },
  {
   "cell_type": "code",
   "execution_count": 9,
   "metadata": {},
   "outputs": [
    {
     "data": {
      "image/png": "[encoded data removed]",
      "text/plain": [
       "<Figure size 936x648 with 2 Axes>"
      ]
     },
     "metadata": {
      "needs_background": "light"
     },
     "output_type": "display_data"
    },
    {
     "data": {
      "text/plain": [
       "<Figure size 432x288 with 0 Axes>"
      ]
     },
     "metadata": {},
     "output_type": "display_data"
    }
   ],
   "source": [
    "# correlation matrix\n",
    "# matrix = np.triu(urldata.corr())\n",
    "\n",
    "temp_df = urldata.drop(['IP','Mouse_over','Web_forwarding', 'Right_click'], axis=1)\n",
    "\n",
    "plt.figure(figsize=(13,9))\n",
    "sns.heatmap(temp_df.corr(), cmap=\"YlGnBu\", annot=True)\n",
    "plt.show()\n",
    "plt.savefig(\"corr matrix.jpg\")"
   ]
  },
  {
   "cell_type": "code",
   "execution_count": null,
   "metadata": {},
   "outputs": [],
   "source": []
  },
  {
   "cell_type": "code",
   "execution_count": 10,
   "metadata": {},
   "outputs": [
    {
     "data": {
      "text/html": [
       "<div>\n",
       "<style scoped>\n",
       "    .dataframe tbody tr th:only-of-type {\n",
       "        vertical-align: middle;\n",
       "    }\n",
       "\n",
       "    .dataframe tbody tr th {\n",
       "        vertical-align: top;\n",
       "    }\n",
       "\n",
       "    .dataframe thead th {\n",
       "        text-align: right;\n",
       "    }\n",
       "</style>\n",
       "<table border=\"1\" class=\"dataframe\">\n",
       "  <thead>\n",
       "    <tr style=\"text-align: right;\">\n",
       "      <th></th>\n",
       "      <th>count</th>\n",
       "      <th>mean</th>\n",
       "      <th>std</th>\n",
       "      <th>min</th>\n",
       "      <th>25%</th>\n",
       "      <th>50%</th>\n",
       "      <th>75%</th>\n",
       "      <th>max</th>\n",
       "    </tr>\n",
       "  </thead>\n",
       "  <tbody>\n",
       "    <tr>\n",
       "      <th>IP</th>\n",
       "      <td>36716.0</td>\n",
       "      <td>0.000000</td>\n",
       "      <td>0.000000</td>\n",
       "      <td>0.0</td>\n",
       "      <td>0.0</td>\n",
       "      <td>0.0</td>\n",
       "      <td>0.0</td>\n",
       "      <td>0.0</td>\n",
       "    </tr>\n",
       "    <tr>\n",
       "      <th>Have@</th>\n",
       "      <td>36716.0</td>\n",
       "      <td>0.020127</td>\n",
       "      <td>0.140438</td>\n",
       "      <td>0.0</td>\n",
       "      <td>0.0</td>\n",
       "      <td>0.0</td>\n",
       "      <td>0.0</td>\n",
       "      <td>1.0</td>\n",
       "    </tr>\n",
       "    <tr>\n",
       "      <th>URL_Length</th>\n",
       "      <td>36716.0</td>\n",
       "      <td>0.815802</td>\n",
       "      <td>0.387651</td>\n",
       "      <td>0.0</td>\n",
       "      <td>1.0</td>\n",
       "      <td>1.0</td>\n",
       "      <td>1.0</td>\n",
       "      <td>1.0</td>\n",
       "    </tr>\n",
       "    <tr>\n",
       "      <th>URL_Depth</th>\n",
       "      <td>36716.0</td>\n",
       "      <td>3.106302</td>\n",
       "      <td>2.109208</td>\n",
       "      <td>0.0</td>\n",
       "      <td>2.0</td>\n",
       "      <td>3.0</td>\n",
       "      <td>4.0</td>\n",
       "      <td>38.0</td>\n",
       "    </tr>\n",
       "    <tr>\n",
       "      <th>Redirection</th>\n",
       "      <td>36716.0</td>\n",
       "      <td>0.012447</td>\n",
       "      <td>0.110871</td>\n",
       "      <td>0.0</td>\n",
       "      <td>0.0</td>\n",
       "      <td>0.0</td>\n",
       "      <td>0.0</td>\n",
       "      <td>1.0</td>\n",
       "    </tr>\n",
       "    <tr>\n",
       "      <th>https_Domain</th>\n",
       "      <td>36716.0</td>\n",
       "      <td>0.000163</td>\n",
       "      <td>0.012783</td>\n",
       "      <td>0.0</td>\n",
       "      <td>0.0</td>\n",
       "      <td>0.0</td>\n",
       "      <td>0.0</td>\n",
       "      <td>1.0</td>\n",
       "    </tr>\n",
       "    <tr>\n",
       "      <th>TinyURL</th>\n",
       "      <td>36716.0</td>\n",
       "      <td>0.088218</td>\n",
       "      <td>0.283615</td>\n",
       "      <td>0.0</td>\n",
       "      <td>0.0</td>\n",
       "      <td>0.0</td>\n",
       "      <td>0.0</td>\n",
       "      <td>1.0</td>\n",
       "    </tr>\n",
       "    <tr>\n",
       "      <th>Prefix/Suffix</th>\n",
       "      <td>36716.0</td>\n",
       "      <td>0.078140</td>\n",
       "      <td>0.268396</td>\n",
       "      <td>0.0</td>\n",
       "      <td>0.0</td>\n",
       "      <td>0.0</td>\n",
       "      <td>0.0</td>\n",
       "      <td>1.0</td>\n",
       "    </tr>\n",
       "    <tr>\n",
       "      <th>Mouse_over</th>\n",
       "      <td>36716.0</td>\n",
       "      <td>1.000000</td>\n",
       "      <td>0.000000</td>\n",
       "      <td>1.0</td>\n",
       "      <td>1.0</td>\n",
       "      <td>1.0</td>\n",
       "      <td>1.0</td>\n",
       "      <td>1.0</td>\n",
       "    </tr>\n",
       "    <tr>\n",
       "      <th>Web_forwarding</th>\n",
       "      <td>36716.0</td>\n",
       "      <td>1.000000</td>\n",
       "      <td>0.000000</td>\n",
       "      <td>1.0</td>\n",
       "      <td>1.0</td>\n",
       "      <td>1.0</td>\n",
       "      <td>1.0</td>\n",
       "      <td>1.0</td>\n",
       "    </tr>\n",
       "    <tr>\n",
       "      <th>Right_click</th>\n",
       "      <td>36716.0</td>\n",
       "      <td>1.000000</td>\n",
       "      <td>0.000000</td>\n",
       "      <td>1.0</td>\n",
       "      <td>1.0</td>\n",
       "      <td>1.0</td>\n",
       "      <td>1.0</td>\n",
       "      <td>1.0</td>\n",
       "    </tr>\n",
       "    <tr>\n",
       "      <th>Label</th>\n",
       "      <td>36716.0</td>\n",
       "      <td>0.404674</td>\n",
       "      <td>0.490835</td>\n",
       "      <td>0.0</td>\n",
       "      <td>0.0</td>\n",
       "      <td>0.0</td>\n",
       "      <td>1.0</td>\n",
       "      <td>1.0</td>\n",
       "    </tr>\n",
       "  </tbody>\n",
       "</table>\n",
       "</div>"
      ],
      "text/plain": [
       "                  count      mean       std  min  25%  50%  75%   max\n",
       "IP              36716.0  0.000000  0.000000  0.0  0.0  0.0  0.0   0.0\n",
       "Have@           36716.0  0.020127  0.140438  0.0  0.0  0.0  0.0   1.0\n",
       "URL_Length      36716.0  0.815802  0.387651  0.0  1.0  1.0  1.0   1.0\n",
       "URL_Depth       36716.0  3.106302  2.109208  0.0  2.0  3.0  4.0  38.0\n",
       "Redirection     36716.0  0.012447  0.110871  0.0  0.0  0.0  0.0   1.0\n",
       "https_Domain    36716.0  0.000163  0.012783  0.0  0.0  0.0  0.0   1.0\n",
       "TinyURL         36716.0  0.088218  0.283615  0.0  0.0  0.0  0.0   1.0\n",
       "Prefix/Suffix   36716.0  0.078140  0.268396  0.0  0.0  0.0  0.0   1.0\n",
       "Mouse_over      36716.0  1.000000  0.000000  1.0  1.0  1.0  1.0   1.0\n",
       "Web_forwarding  36716.0  1.000000  0.000000  1.0  1.0  1.0  1.0   1.0\n",
       "Right_click     36716.0  1.000000  0.000000  1.0  1.0  1.0  1.0   1.0\n",
       "Label           36716.0  0.404674  0.490835  0.0  0.0  0.0  1.0   1.0"
      ]
     },
     "execution_count": 10,
     "metadata": {},
     "output_type": "execute_result"
    }
   ],
   "source": [
    "urldata.describe().T"
   ]
  },
  {
   "cell_type": "code",
   "execution_count": 11,
   "metadata": {},
   "outputs": [
    {
     "data": {
      "text/plain": [
       "Domain            0\n",
       "IP                0\n",
       "Have@             0\n",
       "URL_Length        0\n",
       "URL_Depth         0\n",
       "Redirection       0\n",
       "https_Domain      0\n",
       "TinyURL           0\n",
       "Prefix/Suffix     0\n",
       "Mouse_over        0\n",
       "Web_forwarding    0\n",
       "Right_click       0\n",
       "Label             0\n",
       "dtype: int64"
      ]
     },
     "execution_count": 11,
     "metadata": {},
     "output_type": "execute_result"
    }
   ],
   "source": [
    "urldata.isnull().sum()"
   ]
  },
  {
   "cell_type": "code",
   "execution_count": 12,
   "metadata": {},
   "outputs": [],
   "source": [
    "label_count = pd.DataFrame(urldata.Label.value_counts())"
   ]
  },
  {
   "cell_type": "code",
   "execution_count": 13,
   "metadata": {},
   "outputs": [
    {
     "data": {
      "text/plain": [
       "<AxesSubplot:ylabel='Label'>"
      ]
     },
     "execution_count": 13,
     "metadata": {},
     "output_type": "execute_result"
    },
    {
     "data": {
      "image/png": "[encoded data removed]",
      "text/plain": [
       "<Figure size 432x288 with 1 Axes>"
      ]
     },
     "metadata": {
      "needs_background": "light"
     },
     "output_type": "display_data"
    }
   ],
   "source": [
    "sns.barplot(label_count.index, label_count.Label)"
   ]
  },
  {
   "cell_type": "markdown",
   "metadata": {},
   "source": [
    "### Shuffling the data in dataset so that when we split data is equally disctributed for training\n"
   ]
  },
  {
   "cell_type": "code",
   "execution_count": 14,
   "metadata": {},
   "outputs": [
    {
     "data": {
      "text/html": [
       "<div>\n",
       "<style scoped>\n",
       "    .dataframe tbody tr th:only-of-type {\n",
       "        vertical-align: middle;\n",
       "    }\n",
       "\n",
       "    .dataframe tbody tr th {\n",
       "        vertical-align: top;\n",
       "    }\n",
       "\n",
       "    .dataframe thead th {\n",
       "        text-align: right;\n",
       "    }\n",
       "</style>\n",
       "<table border=\"1\" class=\"dataframe\">\n",
       "  <thead>\n",
       "    <tr style=\"text-align: right;\">\n",
       "      <th></th>\n",
       "      <th>Domain</th>\n",
       "      <th>IP</th>\n",
       "      <th>Have@</th>\n",
       "      <th>URL_Length</th>\n",
       "      <th>URL_Depth</th>\n",
       "      <th>Redirection</th>\n",
       "      <th>https_Domain</th>\n",
       "      <th>TinyURL</th>\n",
       "      <th>Prefix/Suffix</th>\n",
       "      <th>Mouse_over</th>\n",
       "      <th>Web_forwarding</th>\n",
       "      <th>Right_click</th>\n",
       "      <th>Label</th>\n",
       "    </tr>\n",
       "  </thead>\n",
       "  <tbody>\n",
       "    <tr>\n",
       "      <th>0</th>\n",
       "      <td>maybank2u.com.my</td>\n",
       "      <td>0</td>\n",
       "      <td>0</td>\n",
       "      <td>1</td>\n",
       "      <td>4</td>\n",
       "      <td>0</td>\n",
       "      <td>0</td>\n",
       "      <td>0</td>\n",
       "      <td>0</td>\n",
       "      <td>1</td>\n",
       "      <td>1</td>\n",
       "      <td>1</td>\n",
       "      <td>0</td>\n",
       "    </tr>\n",
       "    <tr>\n",
       "      <th>1</th>\n",
       "      <td>thenextweb.com</td>\n",
       "      <td>0</td>\n",
       "      <td>0</td>\n",
       "      <td>1</td>\n",
       "      <td>6</td>\n",
       "      <td>0</td>\n",
       "      <td>0</td>\n",
       "      <td>0</td>\n",
       "      <td>0</td>\n",
       "      <td>1</td>\n",
       "      <td>1</td>\n",
       "      <td>1</td>\n",
       "      <td>0</td>\n",
       "    </tr>\n",
       "    <tr>\n",
       "      <th>2</th>\n",
       "      <td>whatsapp-invite-groupsex88-whatsappsex.2waky.com</td>\n",
       "      <td>0</td>\n",
       "      <td>0</td>\n",
       "      <td>1</td>\n",
       "      <td>0</td>\n",
       "      <td>0</td>\n",
       "      <td>0</td>\n",
       "      <td>0</td>\n",
       "      <td>1</td>\n",
       "      <td>1</td>\n",
       "      <td>1</td>\n",
       "      <td>1</td>\n",
       "      <td>1</td>\n",
       "    </tr>\n",
       "    <tr>\n",
       "      <th>3</th>\n",
       "      <td>censor.net.ua</td>\n",
       "      <td>0</td>\n",
       "      <td>0</td>\n",
       "      <td>1</td>\n",
       "      <td>3</td>\n",
       "      <td>0</td>\n",
       "      <td>0</td>\n",
       "      <td>0</td>\n",
       "      <td>0</td>\n",
       "      <td>1</td>\n",
       "      <td>1</td>\n",
       "      <td>1</td>\n",
       "      <td>0</td>\n",
       "    </tr>\n",
       "    <tr>\n",
       "      <th>4</th>\n",
       "      <td>persianblog.ir</td>\n",
       "      <td>0</td>\n",
       "      <td>0</td>\n",
       "      <td>1</td>\n",
       "      <td>3</td>\n",
       "      <td>0</td>\n",
       "      <td>0</td>\n",
       "      <td>0</td>\n",
       "      <td>0</td>\n",
       "      <td>1</td>\n",
       "      <td>1</td>\n",
       "      <td>1</td>\n",
       "      <td>0</td>\n",
       "    </tr>\n",
       "  </tbody>\n",
       "</table>\n",
       "</div>"
      ],
      "text/plain": [
       "                                             Domain  IP  Have@  URL_Length  \\\n",
       "0                                  maybank2u.com.my   0      0           1   \n",
       "1                                    thenextweb.com   0      0           1   \n",
       "2  whatsapp-invite-groupsex88-whatsappsex.2waky.com   0      0           1   \n",
       "3                                     censor.net.ua   0      0           1   \n",
       "4                                    persianblog.ir   0      0           1   \n",
       "\n",
       "   URL_Depth  Redirection  https_Domain  TinyURL  Prefix/Suffix  Mouse_over  \\\n",
       "0          4            0             0        0              0           1   \n",
       "1          6            0             0        0              0           1   \n",
       "2          0            0             0        0              1           1   \n",
       "3          3            0             0        0              0           1   \n",
       "4          3            0             0        0              0           1   \n",
       "\n",
       "   Web_forwarding  Right_click  Label  \n",
       "0               1            1      0  \n",
       "1               1            1      0  \n",
       "2               1            1      1  \n",
       "3               1            1      0  \n",
       "4               1            1      0  "
      ]
     },
     "execution_count": 14,
     "metadata": {},
     "output_type": "execute_result"
    }
   ],
   "source": [
    "urldata = urldata.sample(frac=1).reset_index(drop=True)\n",
    "urldata.head()"
   ]
  },
  {
   "cell_type": "code",
   "execution_count": 15,
   "metadata": {},
   "outputs": [],
   "source": [
    "urldata.drop(['Domain'], axis = True, inplace = True)"
   ]
  },
  {
   "cell_type": "code",
   "execution_count": 16,
   "metadata": {},
   "outputs": [
    {
     "data": {
      "text/html": [
       "<div>\n",
       "<style scoped>\n",
       "    .dataframe tbody tr th:only-of-type {\n",
       "        vertical-align: middle;\n",
       "    }\n",
       "\n",
       "    .dataframe tbody tr th {\n",
       "        vertical-align: top;\n",
       "    }\n",
       "\n",
       "    .dataframe thead th {\n",
       "        text-align: right;\n",
       "    }\n",
       "</style>\n",
       "<table border=\"1\" class=\"dataframe\">\n",
       "  <thead>\n",
       "    <tr style=\"text-align: right;\">\n",
       "      <th></th>\n",
       "      <th>IP</th>\n",
       "      <th>Have@</th>\n",
       "      <th>URL_Length</th>\n",
       "      <th>URL_Depth</th>\n",
       "      <th>Redirection</th>\n",
       "      <th>https_Domain</th>\n",
       "      <th>TinyURL</th>\n",
       "      <th>Prefix/Suffix</th>\n",
       "      <th>Mouse_over</th>\n",
       "      <th>Web_forwarding</th>\n",
       "      <th>Right_click</th>\n",
       "      <th>Label</th>\n",
       "    </tr>\n",
       "  </thead>\n",
       "  <tbody>\n",
       "    <tr>\n",
       "      <th>0</th>\n",
       "      <td>0</td>\n",
       "      <td>0</td>\n",
       "      <td>1</td>\n",
       "      <td>4</td>\n",
       "      <td>0</td>\n",
       "      <td>0</td>\n",
       "      <td>0</td>\n",
       "      <td>0</td>\n",
       "      <td>1</td>\n",
       "      <td>1</td>\n",
       "      <td>1</td>\n",
       "      <td>0</td>\n",
       "    </tr>\n",
       "    <tr>\n",
       "      <th>1</th>\n",
       "      <td>0</td>\n",
       "      <td>0</td>\n",
       "      <td>1</td>\n",
       "      <td>6</td>\n",
       "      <td>0</td>\n",
       "      <td>0</td>\n",
       "      <td>0</td>\n",
       "      <td>0</td>\n",
       "      <td>1</td>\n",
       "      <td>1</td>\n",
       "      <td>1</td>\n",
       "      <td>0</td>\n",
       "    </tr>\n",
       "    <tr>\n",
       "      <th>2</th>\n",
       "      <td>0</td>\n",
       "      <td>0</td>\n",
       "      <td>1</td>\n",
       "      <td>0</td>\n",
       "      <td>0</td>\n",
       "      <td>0</td>\n",
       "      <td>0</td>\n",
       "      <td>1</td>\n",
       "      <td>1</td>\n",
       "      <td>1</td>\n",
       "      <td>1</td>\n",
       "      <td>1</td>\n",
       "    </tr>\n",
       "    <tr>\n",
       "      <th>3</th>\n",
       "      <td>0</td>\n",
       "      <td>0</td>\n",
       "      <td>1</td>\n",
       "      <td>3</td>\n",
       "      <td>0</td>\n",
       "      <td>0</td>\n",
       "      <td>0</td>\n",
       "      <td>0</td>\n",
       "      <td>1</td>\n",
       "      <td>1</td>\n",
       "      <td>1</td>\n",
       "      <td>0</td>\n",
       "    </tr>\n",
       "    <tr>\n",
       "      <th>4</th>\n",
       "      <td>0</td>\n",
       "      <td>0</td>\n",
       "      <td>1</td>\n",
       "      <td>3</td>\n",
       "      <td>0</td>\n",
       "      <td>0</td>\n",
       "      <td>0</td>\n",
       "      <td>0</td>\n",
       "      <td>1</td>\n",
       "      <td>1</td>\n",
       "      <td>1</td>\n",
       "      <td>0</td>\n",
       "    </tr>\n",
       "  </tbody>\n",
       "</table>\n",
       "</div>"
      ],
      "text/plain": [
       "   IP  Have@  URL_Length  URL_Depth  Redirection  https_Domain  TinyURL  \\\n",
       "0   0      0           1          4            0             0        0   \n",
       "1   0      0           1          6            0             0        0   \n",
       "2   0      0           1          0            0             0        0   \n",
       "3   0      0           1          3            0             0        0   \n",
       "4   0      0           1          3            0             0        0   \n",
       "\n",
       "   Prefix/Suffix  Mouse_over  Web_forwarding  Right_click  Label  \n",
       "0              0           1               1            1      0  \n",
       "1              0           1               1            1      0  \n",
       "2              1           1               1            1      1  \n",
       "3              0           1               1            1      0  \n",
       "4              0           1               1            1      0  "
      ]
     },
     "execution_count": 16,
     "metadata": {},
     "output_type": "execute_result"
    }
   ],
   "source": [
    "urldata.head()"
   ]
  },
  {
   "cell_type": "markdown",
   "metadata": {},
   "source": [
    "## Splitting the data for training and testing\n"
   ]
  },
  {
   "cell_type": "code",
   "execution_count": null,
   "metadata": {},
   "outputs": [],
   "source": []
  },
  {
   "cell_type": "code",
   "execution_count": 17,
   "metadata": {},
   "outputs": [],
   "source": [
    "X = urldata.drop(['Label'], axis=True)\n",
    "Y = urldata['Label']"
   ]
  },
  {
   "cell_type": "code",
   "execution_count": 18,
   "metadata": {},
   "outputs": [
    {
     "data": {
      "text/html": [
       "<div>\n",
       "<style scoped>\n",
       "    .dataframe tbody tr th:only-of-type {\n",
       "        vertical-align: middle;\n",
       "    }\n",
       "\n",
       "    .dataframe tbody tr th {\n",
       "        vertical-align: top;\n",
       "    }\n",
       "\n",
       "    .dataframe thead th {\n",
       "        text-align: right;\n",
       "    }\n",
       "</style>\n",
       "<table border=\"1\" class=\"dataframe\">\n",
       "  <thead>\n",
       "    <tr style=\"text-align: right;\">\n",
       "      <th></th>\n",
       "      <th>IP</th>\n",
       "      <th>Have@</th>\n",
       "      <th>URL_Length</th>\n",
       "      <th>URL_Depth</th>\n",
       "      <th>Redirection</th>\n",
       "      <th>https_Domain</th>\n",
       "      <th>TinyURL</th>\n",
       "      <th>Prefix/Suffix</th>\n",
       "      <th>Mouse_over</th>\n",
       "      <th>Web_forwarding</th>\n",
       "      <th>Right_click</th>\n",
       "      <th>Label</th>\n",
       "    </tr>\n",
       "  </thead>\n",
       "  <tbody>\n",
       "    <tr>\n",
       "      <th>0</th>\n",
       "      <td>0</td>\n",
       "      <td>0</td>\n",
       "      <td>1</td>\n",
       "      <td>4</td>\n",
       "      <td>0</td>\n",
       "      <td>0</td>\n",
       "      <td>0</td>\n",
       "      <td>0</td>\n",
       "      <td>1</td>\n",
       "      <td>1</td>\n",
       "      <td>1</td>\n",
       "      <td>0</td>\n",
       "    </tr>\n",
       "    <tr>\n",
       "      <th>1</th>\n",
       "      <td>0</td>\n",
       "      <td>0</td>\n",
       "      <td>1</td>\n",
       "      <td>6</td>\n",
       "      <td>0</td>\n",
       "      <td>0</td>\n",
       "      <td>0</td>\n",
       "      <td>0</td>\n",
       "      <td>1</td>\n",
       "      <td>1</td>\n",
       "      <td>1</td>\n",
       "      <td>0</td>\n",
       "    </tr>\n",
       "    <tr>\n",
       "      <th>2</th>\n",
       "      <td>0</td>\n",
       "      <td>0</td>\n",
       "      <td>1</td>\n",
       "      <td>0</td>\n",
       "      <td>0</td>\n",
       "      <td>0</td>\n",
       "      <td>0</td>\n",
       "      <td>1</td>\n",
       "      <td>1</td>\n",
       "      <td>1</td>\n",
       "      <td>1</td>\n",
       "      <td>1</td>\n",
       "    </tr>\n",
       "    <tr>\n",
       "      <th>3</th>\n",
       "      <td>0</td>\n",
       "      <td>0</td>\n",
       "      <td>1</td>\n",
       "      <td>3</td>\n",
       "      <td>0</td>\n",
       "      <td>0</td>\n",
       "      <td>0</td>\n",
       "      <td>0</td>\n",
       "      <td>1</td>\n",
       "      <td>1</td>\n",
       "      <td>1</td>\n",
       "      <td>0</td>\n",
       "    </tr>\n",
       "    <tr>\n",
       "      <th>4</th>\n",
       "      <td>0</td>\n",
       "      <td>0</td>\n",
       "      <td>1</td>\n",
       "      <td>3</td>\n",
       "      <td>0</td>\n",
       "      <td>0</td>\n",
       "      <td>0</td>\n",
       "      <td>0</td>\n",
       "      <td>1</td>\n",
       "      <td>1</td>\n",
       "      <td>1</td>\n",
       "      <td>0</td>\n",
       "    </tr>\n",
       "  </tbody>\n",
       "</table>\n",
       "</div>"
      ],
      "text/plain": [
       "   IP  Have@  URL_Length  URL_Depth  Redirection  https_Domain  TinyURL  \\\n",
       "0   0      0           1          4            0             0        0   \n",
       "1   0      0           1          6            0             0        0   \n",
       "2   0      0           1          0            0             0        0   \n",
       "3   0      0           1          3            0             0        0   \n",
       "4   0      0           1          3            0             0        0   \n",
       "\n",
       "   Prefix/Suffix  Mouse_over  Web_forwarding  Right_click  Label  \n",
       "0              0           1               1            1      0  \n",
       "1              0           1               1            1      0  \n",
       "2              1           1               1            1      1  \n",
       "3              0           1               1            1      0  \n",
       "4              0           1               1            1      0  "
      ]
     },
     "execution_count": 18,
     "metadata": {},
     "output_type": "execute_result"
    }
   ],
   "source": [
    "urldata.head()"
   ]
  },
  {
   "cell_type": "code",
   "execution_count": 19,
   "metadata": {},
   "outputs": [
    {
     "data": {
      "text/plain": [
       "((36716, 11), (36716,))"
      ]
     },
     "execution_count": 19,
     "metadata": {},
     "output_type": "execute_result"
    }
   ],
   "source": [
    "X.shape, Y.shape"
   ]
  },
  {
   "cell_type": "code",
   "execution_count": 20,
   "metadata": {},
   "outputs": [
    {
     "data": {
      "text/plain": [
       "((25701, 11), (11015, 11))"
      ]
     },
     "execution_count": 20,
     "metadata": {},
     "output_type": "execute_result"
    }
   ],
   "source": [
    "from sklearn.model_selection import train_test_split\n",
    "\n",
    "X_train, X_test, Y_train, Y_test = train_test_split(X, Y, \n",
    "                                                    test_size = 0.3, random_state = 1)\n",
    "X_train.shape, X_test.shape"
   ]
  },
  {
   "cell_type": "markdown",
   "metadata": {},
   "source": [
    "## Machine Learning Model and Training "
   ]
  },
  {
   "cell_type": "code",
   "execution_count": 52,
   "metadata": {},
   "outputs": [],
   "source": [
    "from sklearn.metrics import accuracy_score, precision_score, recall_score"
   ]
  },
  {
   "cell_type": "code",
   "execution_count": 22,
   "metadata": {},
   "outputs": [],
   "source": [
    "# Creating holders to store the model performance results\n",
    "ML_Model = []\n",
    "acc_train = []\n",
    "acc_test = []\n",
    "\n",
    "#function to call for storing the results\n",
    "def storeResults(model, a,b):\n",
    "  ML_Model.append(model)\n",
    "  acc_train.append(round(a, 3))\n",
    "  acc_test.append(round(b, 3))"
   ]
  },
  {
   "cell_type": "markdown",
   "metadata": {},
   "source": [
    "### Model 1: Logistic Regression"
   ]
  },
  {
   "cell_type": "code",
   "execution_count": 23,
   "metadata": {},
   "outputs": [
    {
     "name": "stderr",
     "output_type": "stream",
     "text": [
      "/Library/Frameworks/Python.framework/Versions/3.8/lib/python3.8/site-packages/sklearn/linear_model/_logistic.py:762: ConvergenceWarning: lbfgs failed to converge (status=1):\n",
      "STOP: TOTAL NO. of ITERATIONS REACHED LIMIT.\n",
      "\n",
      "Increase the number of iterations (max_iter) or scale the data as shown in:\n",
      "    https://scikit-learn.org/stable/modules/preprocessing.html\n",
      "Please also refer to the documentation for alternative solver options:\n",
      "    https://scikit-learn.org/stable/modules/linear_model.html#logistic-regression\n",
      "  n_iter_i = _check_optimize_result(\n"
     ]
    },
    {
     "data": {
      "text/plain": [
       "LogisticRegression()"
      ]
     },
     "execution_count": 23,
     "metadata": {},
     "output_type": "execute_result"
    }
   ],
   "source": [
    "from sklearn.linear_model import LogisticRegression\n",
    "\n",
    "logreg = LogisticRegression(penalty='l2', dual=False, tol=0.0001, C=1.0)\n",
    "logreg.fit(X_train, Y_train)"
   ]
  },
  {
   "cell_type": "code",
   "execution_count": 24,
   "metadata": {},
   "outputs": [],
   "source": [
    "#predicting the target value from the model for the samples\n",
    "y_test_log = logreg.predict(X_test)\n",
    "y_train_log = logreg.predict(X_train)"
   ]
  },
  {
   "cell_type": "markdown",
   "metadata": {},
   "source": [
    "#### Performance Evaluation"
   ]
  },
  {
   "cell_type": "code",
   "execution_count": 55,
   "metadata": {},
   "outputs": [
    {
     "name": "stdout",
     "output_type": "stream",
     "text": [
      "Logistic Regression: Precision on training Data: 0.960\n",
      "Logistic Regression: Precision on test Data: 0.964\n"
     ]
    }
   ],
   "source": [
    "#computing the precision of the model performance\n",
    "acc_train_log = precision_score(Y_train,y_train_log)\n",
    "acc_test_log = precision_score(Y_test,y_test_log)\n",
    "\n",
    "print(\"Logistic Regression: Precision on training Data: {:.3f}\".format(acc_train_log))\n",
    "print(\"Logistic Regression: Precision on test Data: {:.3f}\".format(acc_test_log))\n",
    "\n"
   ]
  },
  {
   "cell_type": "code",
   "execution_count": 56,
   "metadata": {},
   "outputs": [
    {
     "name": "stdout",
     "output_type": "stream",
     "text": [
      "Logistic Regression: Recall score on training Data: 0.599\n",
      "Logistic Regression: Recall score test Data: 0.605\n"
     ]
    }
   ],
   "source": [
    "#computing the accuracy of the model performance\n",
    "acc_train_log = recall_score(Y_train,y_train_log)\n",
    "acc_test_log = recall_score(Y_test,y_test_log)\n",
    "\n",
    "print(\"Logistic Regression: Recall score on training Data: {:.3f}\".format(acc_train_log))\n",
    "print(\"Logistic Regression: Recall score test Data: {:.3f}\".format(acc_test_log))\n",
    "\n"
   ]
  },
  {
   "cell_type": "code",
   "execution_count": 45,
   "metadata": {},
   "outputs": [
    {
     "name": "stdout",
     "output_type": "stream",
     "text": [
      "Average precision-recall score: 0.74\n"
     ]
    },
    {
     "data": {
      "text/plain": [
       "Text(0.5, 1.0, '2-class Precision-Recall curve: AP=0.74')"
      ]
     },
     "execution_count": 45,
     "metadata": {},
     "output_type": "execute_result"
    },
    {
     "data": {
      "image/png": "[encoded data removed]",
      "text/plain": [
       "<Figure size 432x288 with 1 Axes>"
      ]
     },
     "metadata": {
      "needs_background": "light"
     },
     "output_type": "display_data"
    }
   ],
   "source": [
    "average_precision = average_precision_score(Y_test, y_test_log)\n",
    "print('Average precision-recall score: {0:0.2f}'.format(\n",
    "      average_precision))\n",
    "\n",
    "disp = plot_precision_recall_curve(logreg, X_test, Y_test)\n",
    "disp.ax_.set_title('2-class Precision-Recall curve: '\n",
    "                   'AP={0:0.2f}'.format(average_precision))"
   ]
  },
  {
   "cell_type": "markdown",
   "metadata": {},
   "source": [
    "### Model 2: Decision Tree"
   ]
  },
  {
   "cell_type": "code",
   "execution_count": 27,
   "metadata": {},
   "outputs": [
    {
     "data": {
      "text/plain": [
       "DecisionTreeClassifier(max_depth=5)"
      ]
     },
     "execution_count": 27,
     "metadata": {},
     "output_type": "execute_result"
    }
   ],
   "source": [
    "from sklearn.tree import DecisionTreeClassifier\n",
    "\n",
    "# instantiate the model \n",
    "tree = DecisionTreeClassifier(max_depth = 5)\n",
    "# fit the model \n",
    "tree.fit(X_train, Y_train)"
   ]
  },
  {
   "cell_type": "code",
   "execution_count": 28,
   "metadata": {},
   "outputs": [],
   "source": [
    "#predicting the target value from the model for the samples\n",
    "y_test_tree = tree.predict(X_test)\n",
    "y_train_tree = tree.predict(X_train)"
   ]
  },
  {
   "cell_type": "markdown",
   "metadata": {},
   "source": [
    "#### Performance Evaluation"
   ]
  },
  {
   "cell_type": "code",
   "execution_count": 29,
   "metadata": {},
   "outputs": [
    {
     "name": "stdout",
     "output_type": "stream",
     "text": [
      "Decision Tree: Precision on training Data: 0.966\n",
      "Decision Tree: Precision on test Data: 0.967\n"
     ]
    }
   ],
   "source": [
    "#computing the accuracy of the model performance\n",
    "acc_train_tree = precision_score(Y_train,y_train_tree)\n",
    "acc_test_tree = precision_score(Y_test,y_test_tree)\n",
    "\n",
    "print(\"Decision Tree: Precision on training Data: {:.3f}\".format(acc_train_tree))\n",
    "print(\"Decision Tree: Precision on test Data: {:.3f}\".format(acc_test_tree))\n"
   ]
  },
  {
   "cell_type": "code",
   "execution_count": 58,
   "metadata": {},
   "outputs": [
    {
     "name": "stdout",
     "output_type": "stream",
     "text": [
      "Decision Tree: Recall on training Data: 0.600\n",
      "Decision Tree: Recall on test Data: 0.605\n"
     ]
    }
   ],
   "source": [
    "#computing the accuracy of the model performance\n",
    "acc_train_tree = recall_score(Y_train,y_train_tree)\n",
    "acc_test_tree = recall_score(Y_test,y_test_tree)\n",
    "\n",
    "print(\"Decision Tree: Recall on training Data: {:.3f}\".format(acc_train_tree))\n",
    "print(\"Decision Tree: Recall on test Data: {:.3f}\".format(acc_test_tree))"
   ]
  },
  {
   "cell_type": "code",
   "execution_count": 30,
   "metadata": {},
   "outputs": [
    {
     "data": {
      "image/png": "[encoded data removed]",
      "text/plain": [
       "<Figure size 648x504 with 1 Axes>"
      ]
     },
     "metadata": {
      "needs_background": "light"
     },
     "output_type": "display_data"
    }
   ],
   "source": [
    "#checking the feature improtance in the model\n",
    "plt.figure(figsize=(9,7))\n",
    "n_features = X_train.shape[1]\n",
    "plt.barh(range(n_features), tree.feature_importances_, align='center')\n",
    "plt.yticks(np.arange(n_features), X_train.columns)\n",
    "plt.xlabel(\"Feature importance\")\n",
    "plt.ylabel(\"Feature\")\n",
    "plt.show()"
   ]
  },
  {
   "cell_type": "code",
   "execution_count": 47,
   "metadata": {},
   "outputs": [
    {
     "name": "stdout",
     "output_type": "stream",
     "text": [
      "Average precision-recall score: 0.74\n"
     ]
    },
    {
     "data": {
      "text/plain": [
       "Text(0.5, 1.0, '2-class Precision-Recall curve: AP=0.74')"
      ]
     },
     "execution_count": 47,
     "metadata": {},
     "output_type": "execute_result"
    },
    {
     "data": {
      "image/png": "[encoded data removed]",
      "text/plain": [
       "<Figure size 432x288 with 1 Axes>"
      ]
     },
     "metadata": {
      "needs_background": "light"
     },
     "output_type": "display_data"
    }
   ],
   "source": [
    "average_precision_dt = average_precision_score(Y_test, y_test_tree)\n",
    "print('Average precision-recall score: {0:0.2f}'.format(\n",
    "      average_precision_dt))\n",
    "\n",
    "disp_dt = plot_precision_recall_curve(tree, X_test, Y_test)\n",
    "disp.ax_.set_title('2-class Precision-Recall curve: '\n",
    "                   'AP={0:0.2f}'.format(average_precision_dt))"
   ]
  },
  {
   "cell_type": "markdown",
   "metadata": {},
   "source": [
    "### Model 3: Random Forest"
   ]
  },
  {
   "cell_type": "code",
   "execution_count": 31,
   "metadata": {},
   "outputs": [],
   "source": [
    "from sklearn.ensemble import RandomForestClassifier\n",
    "from sklearn.model_selection import GridSearchCV\n",
    "\n",
    "# instantiate the model\n",
    "forest = RandomForestClassifier(random_state=42)"
   ]
  },
  {
   "cell_type": "code",
   "execution_count": 32,
   "metadata": {},
   "outputs": [],
   "source": [
    "param_grid = { \n",
    "    'n_estimators': [200, 500],\n",
    "    'max_features': ['auto', 'sqrt', 'log2'],\n",
    "    'max_depth' : [4,5,6,7,8],\n",
    "    'criterion' :['gini', 'entropy']\n",
    "}"
   ]
  },
  {
   "cell_type": "code",
   "execution_count": 114,
   "metadata": {},
   "outputs": [
    {
     "data": {
      "text/plain": [
       "GridSearchCV(cv=5, estimator=RandomForestClassifier(random_state=42),\n",
       "             param_grid={'criterion': ['gini', 'entropy'],\n",
       "                         'max_depth': [4, 5, 6, 7, 8],\n",
       "                         'max_features': ['auto', 'sqrt', 'log2'],\n",
       "                         'n_estimators': [200, 500]})"
      ]
     },
     "execution_count": 114,
     "metadata": {},
     "output_type": "execute_result"
    }
   ],
   "source": [
    "CV_rfc = GridSearchCV(estimator=forest, param_grid=param_grid, cv= 5)\n",
    "CV_rfc.fit(X_train, Y_train)"
   ]
  },
  {
   "cell_type": "code",
   "execution_count": 115,
   "metadata": {},
   "outputs": [
    {
     "data": {
      "text/plain": [
       "{'criterion': 'gini',\n",
       " 'max_depth': 8,\n",
       " 'max_features': 'auto',\n",
       " 'n_estimators': 200}"
      ]
     },
     "execution_count": 115,
     "metadata": {},
     "output_type": "execute_result"
    }
   ],
   "source": [
    "CV_rfc.best_params_"
   ]
  },
  {
   "cell_type": "code",
   "execution_count": 33,
   "metadata": {},
   "outputs": [
    {
     "data": {
      "text/plain": [
       "RandomForestClassifier(max_depth=8, n_estimators=200, random_state=42)"
      ]
     },
     "execution_count": 33,
     "metadata": {},
     "output_type": "execute_result"
    }
   ],
   "source": [
    "rfc = RandomForestClassifier(random_state=42, criterion='gini',max_depth=8, max_features='auto', n_estimators=200)\n",
    "rfc.fit(X_train, Y_train)"
   ]
  },
  {
   "cell_type": "code",
   "execution_count": 34,
   "metadata": {},
   "outputs": [],
   "source": [
    "#predicting the target value from the model for the samples\n",
    "y_test_forest = rfc.predict(X_test)\n",
    "y_train_forest = rfc.predict(X_train)"
   ]
  },
  {
   "cell_type": "code",
   "execution_count": 35,
   "metadata": {},
   "outputs": [
    {
     "name": "stdout",
     "output_type": "stream",
     "text": [
      "Random forest: Precision on training Data: 0.963\n",
      "Random forest: Precision on test Data: 0.958\n"
     ]
    }
   ],
   "source": [
    "#computing the accuracy of the model performance\n",
    "acc_train_forest = precision_score(Y_train,y_train_forest)\n",
    "acc_test_forest = precision_score(Y_test,y_test_forest)\n",
    "\n",
    "print(\"Random forest: Precision on training Data: {:.3f}\".format(acc_train_forest))\n",
    "print(\"Random forest: Precision on test Data: {:.3f}\".format(acc_test_forest))"
   ]
  },
  {
   "cell_type": "code",
   "execution_count": 60,
   "metadata": {},
   "outputs": [
    {
     "name": "stdout",
     "output_type": "stream",
     "text": [
      "Random forest: Recall on training Data: 0.630\n",
      "Random forest: Recall on test Data: 0.629\n"
     ]
    }
   ],
   "source": [
    "#computing the accuracy of the model performance\n",
    "acc_train_forest = recall_score(Y_train,y_train_forest)\n",
    "acc_test_forest = recall_score(Y_test,y_test_forest)\n",
    "\n",
    "print(\"Random forest: Recall on training Data: {:.3f}\".format(acc_train_forest))\n",
    "print(\"Random forest: Recall on test Data: {:.3f}\".format(acc_test_forest))"
   ]
  },
  {
   "cell_type": "code",
   "execution_count": 36,
   "metadata": {},
   "outputs": [
    {
     "data": {
      "image/png": "[encoded data removed]",
      "text/plain": [
       "<Figure size 648x504 with 1 Axes>"
      ]
     },
     "metadata": {
      "needs_background": "light"
     },
     "output_type": "display_data"
    }
   ],
   "source": [
    "#checking the feature improtance in the model\n",
    "plt.figure(figsize=(9,7))\n",
    "n_features = X_train.shape[1]\n",
    "plt.barh(range(n_features), rfc.feature_importances_, align='center')\n",
    "plt.yticks(np.arange(n_features), X_train.columns)\n",
    "plt.xlabel(\"Feature importance\")\n",
    "plt.ylabel(\"Feature\")\n",
    "plt.show()"
   ]
  },
  {
   "cell_type": "code",
   "execution_count": 68,
   "metadata": {},
   "outputs": [
    {
     "name": "stdout",
     "output_type": "stream",
     "text": [
      "Average precision-recall score: 0.75\n"
     ]
    },
    {
     "data": {
      "text/plain": [
       "Text(0.5, 1.0, '2-class Precision-Recall curve: AP=0.75')"
      ]
     },
     "execution_count": 68,
     "metadata": {},
     "output_type": "execute_result"
    },
    {
     "data": {
      "image/png": "[encoded data removed]",
      "text/plain": [
       "<Figure size 432x288 with 1 Axes>"
      ]
     },
     "metadata": {
      "needs_background": "light"
     },
     "output_type": "display_data"
    }
   ],
   "source": [
    "average_precision_rf = average_precision_score(Y_test, y_test_forest)\n",
    "print('Average precision-recall score: {0:0.2f}'.format(\n",
    "      average_precision_rf))\n",
    "\n",
    "disp_rf = plot_precision_recall_curve(rfc, X_test, Y_test)\n",
    "disp.ax_.set_title('2-class Precision-Recall curve: '\n",
    "                   'AP={0:0.2f}'.format(average_precision_rf))\n",
    "# axes.yaxis.label.set_size(20)"
   ]
  },
  {
   "cell_type": "markdown",
   "metadata": {},
   "source": [
    "### Model 4: MultiLayer Perceptron\n"
   ]
  },
  {
   "cell_type": "code",
   "execution_count": 62,
   "metadata": {},
   "outputs": [
    {
     "data": {
      "text/plain": [
       "MLPClassifier(alpha=0.005, hidden_layer_sizes=[100, 100, 100])"
      ]
     },
     "execution_count": 62,
     "metadata": {},
     "output_type": "execute_result"
    }
   ],
   "source": [
    "# Multilayer Perceptrons model\n",
    "from sklearn.neural_network import MLPClassifier\n",
    "\n",
    "# instantiate the model\n",
    "mlp = MLPClassifier(alpha=0.005, hidden_layer_sizes=([100,100,100]))\n",
    "\n",
    "# fit the model \n",
    "mlp.fit(X_train, Y_train)"
   ]
  },
  {
   "cell_type": "code",
   "execution_count": 63,
   "metadata": {},
   "outputs": [],
   "source": [
    "#predicting the target value from the model for the samples\n",
    "y_test_mlp = mlp.predict(X_test)\n",
    "y_train_mlp = mlp.predict(X_train)"
   ]
  },
  {
   "cell_type": "code",
   "execution_count": 64,
   "metadata": {},
   "outputs": [
    {
     "name": "stdout",
     "output_type": "stream",
     "text": [
      "Multilayer Perceptrons: Precision on training Data: 0.970\n",
      "Multilayer Perceptrons: Precision on test Data: 0.968\n"
     ]
    }
   ],
   "source": [
    "#computing the accuracy of the model performance\n",
    "acc_train_mlp = precision_score(Y_train,y_train_mlp)\n",
    "acc_test_mlp = precision_score(Y_test,y_test_mlp)\n",
    "\n",
    "print(\"Multilayer Perceptrons: Precision on training Data: {:.3f}\".format(acc_train_mlp))\n",
    "print(\"Multilayer Perceptrons: Precision on test Data: {:.3f}\".format(acc_test_mlp))\n"
   ]
  },
  {
   "cell_type": "code",
   "execution_count": 65,
   "metadata": {},
   "outputs": [
    {
     "name": "stdout",
     "output_type": "stream",
     "text": [
      "Multilayer Perceptrons: Recall on training Data: 0.625\n",
      "Multilayer Perceptrons: Recall on test Data: 0.624\n"
     ]
    }
   ],
   "source": [
    "#computing the accuracy of the model performance\n",
    "acc_train_mlp = recall_score(Y_train,y_train_mlp)\n",
    "acc_test_mlp = recall_score(Y_test,y_test_mlp)\n",
    "\n",
    "print(\"Multilayer Perceptrons: Recall on training Data: {:.3f}\".format(acc_train_mlp))\n",
    "print(\"Multilayer Perceptrons: Recall on test Data: {:.3f}\".format(acc_test_mlp))"
   ]
  },
  {
   "cell_type": "code",
   "execution_count": 66,
   "metadata": {},
   "outputs": [
    {
     "name": "stdout",
     "output_type": "stream",
     "text": [
      "Average precision-recall score: 0.76\n"
     ]
    }
   ],
   "source": [
    "from sklearn.metrics import average_precision_score\n",
    "average_precision = average_precision_score(Y_test, y_test_mlp )\n",
    "\n",
    "print('Average precision-recall score: {0:0.2f}'.format(\n",
    "      average_precision))"
   ]
  },
  {
   "cell_type": "code",
   "execution_count": 67,
   "metadata": {},
   "outputs": [
    {
     "data": {
      "text/plain": [
       "Text(0.5, 1.0, '2-class Precision-Recall curve: AP=0.76')"
      ]
     },
     "execution_count": 67,
     "metadata": {},
     "output_type": "execute_result"
    },
    {
     "data": {
      "image/png": "[encoded data removed]",
      "text/plain": [
       "<Figure size 432x288 with 1 Axes>"
      ]
     },
     "metadata": {
      "needs_background": "light"
     },
     "output_type": "display_data"
    }
   ],
   "source": [
    "from sklearn.metrics import precision_recall_curve\n",
    "from sklearn.metrics import plot_precision_recall_curve\n",
    "import matplotlib.pyplot as plt\n",
    "\n",
    "disp = plot_precision_recall_curve(mlp, X_test, Y_test)\n",
    "disp.ax_.set_title('2-class Precision-Recall curve: '\n",
    "                   'AP={0:0.2f}'.format(average_precision))"
   ]
  },
  {
   "cell_type": "markdown",
   "metadata": {},
   "source": [
    "### Trying to improve the predictive performance with Neural Networks\n"
   ]
  },
  {
   "cell_type": "code",
   "execution_count": 134,
   "metadata": {},
   "outputs": [
    {
     "name": "stderr",
     "output_type": "stream",
     "text": [
      "Using TensorFlow backend.\n"
     ]
    }
   ],
   "source": [
    "#Applying neural network using tensorflow and keras\n",
    "import tensorflow as tf\n",
    "from tensorflow import keras\n",
    "from keras.models import Sequential\n",
    "from keras.layers import Dense"
   ]
  },
  {
   "cell_type": "code",
   "execution_count": 159,
   "metadata": {},
   "outputs": [],
   "source": [
    "#Initializing the ANN\n",
    "ann_classifier = Sequential()\n",
    "\n",
    "#Adding the input layer and first hidden layer\n",
    "ann_classifier.add(Dense(units=50, kernel_initializer='uniform', activation='relu', input_dim=11))\n",
    "\n",
    "# Adding the second hidden layer\n",
    "ann_classifier.add(Dense(units=30, kernel_initializer = 'uniform', activation = 'relu'))\n",
    "\n",
    "#Adding the output layer\n",
    "ann_classifier.add(Dense(units=1, kernel_initializer = 'uniform', activation = 'sigmoid'))\n",
    "\n",
    "# Compiling the ANN\n",
    "ann_classifier.compile(optimizer = 'adam', loss = 'binary_crossentropy', metrics = [tf.keras.metrics.Precision()])\n",
    "\n"
   ]
  },
  {
   "cell_type": "code",
   "execution_count": 160,
   "metadata": {},
   "outputs": [
    {
     "name": "stdout",
     "output_type": "stream",
     "text": [
      "Train on 25701 samples, validate on 11015 samples\n",
      "Epoch 1/50\n",
      "25701/25701 [==============================] - 5s 207us/step - loss: 0.4233 - precision_1: 0.9322 - val_loss: 0.4005 - val_precision_1: 0.9422\n",
      "Epoch 2/50\n",
      "25701/25701 [==============================] - 6s 214us/step - loss: 0.3982 - precision_1: 0.9441 - val_loss: 0.4065 - val_precision_1: 0.9449\n",
      "Epoch 3/50\n",
      "25701/25701 [==============================] - 7s 281us/step - loss: 0.3928 - precision_1: 0.9476 - val_loss: 0.3935 - val_precision_1: 0.9514\n",
      "Epoch 4/50\n",
      "25701/25701 [==============================] - 6s 240us/step - loss: 0.3896 - precision_1: 0.9545 - val_loss: 0.3883 - val_precision_1: 0.9567\n",
      "Epoch 5/50\n",
      "25701/25701 [==============================] - 6s 244us/step - loss: 0.3869 - precision_1: 0.9584 - val_loss: 0.3927 - val_precision_1: 0.9588\n",
      "Epoch 6/50\n",
      "25701/25701 [==============================] - 6s 225us/step - loss: 0.3855 - precision_1: 0.9596 - val_loss: 0.3850 - val_precision_1: 0.9605\n",
      "Epoch 7/50\n",
      "25701/25701 [==============================] - 5s 192us/step - loss: 0.3853 - precision_1: 0.9612 - val_loss: 0.3884 - val_precision_1: 0.9617\n",
      "Epoch 8/50\n",
      "25701/25701 [==============================] - 5s 196us/step - loss: 0.3846 - precision_1: 0.9624 - val_loss: 0.3843 - val_precision_1: 0.9629\n",
      "Epoch 9/50\n",
      "25701/25701 [==============================] - 6s 231us/step - loss: 0.3834 - precision_1: 0.9638 - val_loss: 0.3861 - val_precision_1: 0.9643\n",
      "Epoch 10/50\n",
      "25701/25701 [==============================] - 6s 246us/step - loss: 0.3831 - precision_1: 0.9649 - val_loss: 0.3830 - val_precision_1: 0.9652\n",
      "Epoch 11/50\n",
      "25701/25701 [==============================] - 6s 232us/step - loss: 0.3826 - precision_1: 0.9654 - val_loss: 0.3841 - val_precision_1: 0.9655\n",
      "Epoch 12/50\n",
      "25701/25701 [==============================] - 6s 237us/step - loss: 0.3825 - precision_1: 0.9655 - val_loss: 0.3837 - val_precision_1: 0.9657\n",
      "Epoch 13/50\n",
      "25701/25701 [==============================] - 6s 228us/step - loss: 0.3808 - precision_1: 0.9659 - val_loss: 0.3861 - val_precision_1: 0.9657\n",
      "Epoch 14/50\n",
      "25701/25701 [==============================] - 6s 223us/step - loss: 0.3812 - precision_1: 0.9650 - val_loss: 0.3838 - val_precision_1: 0.9648\n",
      "Epoch 15/50\n",
      "25701/25701 [==============================] - 6s 226us/step - loss: 0.3808 - precision_1: 0.9648 - val_loss: 0.3855 - val_precision_1: 0.9647\n",
      "Epoch 16/50\n",
      "25701/25701 [==============================] - 6s 216us/step - loss: 0.3804 - precision_1: 0.9646 - val_loss: 0.3802 - val_precision_1: 0.9647\n",
      "Epoch 17/50\n",
      "25701/25701 [==============================] - 6s 219us/step - loss: 0.3802 - precision_1: 0.9648 - val_loss: 0.3855 - val_precision_1: 0.9649\n",
      "Epoch 18/50\n",
      "25701/25701 [==============================] - 6s 232us/step - loss: 0.3795 - precision_1: 0.9652 - val_loss: 0.3817 - val_precision_1: 0.9651\n",
      "Epoch 19/50\n",
      "25701/25701 [==============================] - 6s 235us/step - loss: 0.3797 - precision_1: 0.9650 - val_loss: 0.3803 - val_precision_1: 0.9648\n",
      "Epoch 20/50\n",
      "25701/25701 [==============================] - 5s 195us/step - loss: 0.3792 - precision_1: 0.9644 - val_loss: 0.3802 - val_precision_1: 0.9643\n",
      "Epoch 21/50\n",
      "25701/25701 [==============================] - 5s 197us/step - loss: 0.3792 - precision_1: 0.9641 - val_loss: 0.3804 - val_precision_1: 0.9639\n",
      "Epoch 22/50\n",
      "25701/25701 [==============================] - 5s 190us/step - loss: 0.3785 - precision_1: 0.9639 - val_loss: 0.3813 - val_precision_1: 0.9639\n",
      "Epoch 23/50\n",
      "25701/25701 [==============================] - 5s 191us/step - loss: 0.3780 - precision_1: 0.9639 - val_loss: 0.3783 - val_precision_1: 0.9637\n",
      "Epoch 24/50\n",
      "25701/25701 [==============================] - 5s 206us/step - loss: 0.3770 - precision_1: 0.9636 - val_loss: 0.3798 - val_precision_1: 0.9634\n",
      "Epoch 25/50\n",
      "25701/25701 [==============================] - 5s 193us/step - loss: 0.3776 - precision_1: 0.9632 - val_loss: 0.3791 - val_precision_1: 0.9632\n",
      "Epoch 26/50\n",
      "25701/25701 [==============================] - 5s 197us/step - loss: 0.3770 - precision_1: 0.9632 - val_loss: 0.3806 - val_precision_1: 0.9630\n",
      "Epoch 27/50\n",
      "25701/25701 [==============================] - 5s 193us/step - loss: 0.3774 - precision_1: 0.9630 - val_loss: 0.3853 - val_precision_1: 0.9626\n",
      "Epoch 28/50\n",
      "25701/25701 [==============================] - 5s 192us/step - loss: 0.3768 - precision_1: 0.9622 - val_loss: 0.3830 - val_precision_1: 0.9619\n",
      "Epoch 29/50\n",
      "25701/25701 [==============================] - 5s 192us/step - loss: 0.3764 - precision_1: 0.9617 - val_loss: 0.3794 - val_precision_1: 0.9616\n",
      "Epoch 30/50\n",
      "25701/25701 [==============================] - 5s 193us/step - loss: 0.3764 - precision_1: 0.9617 - val_loss: 0.3790 - val_precision_1: 0.9616\n",
      "Epoch 31/50\n",
      "25701/25701 [==============================] - 5s 195us/step - loss: 0.3767 - precision_1: 0.9617 - val_loss: 0.3779 - val_precision_1: 0.9615\n",
      "Epoch 32/50\n",
      "25701/25701 [==============================] - 6s 223us/step - loss: 0.3758 - precision_1: 0.9614 - val_loss: 0.3785 - val_precision_1: 0.9613\n",
      "Epoch 33/50\n",
      "25701/25701 [==============================] - 5s 199us/step - loss: 0.3759 - precision_1: 0.9613 - val_loss: 0.3789 - val_precision_1: 0.9613\n",
      "Epoch 34/50\n",
      "25701/25701 [==============================] - 5s 198us/step - loss: 0.3762 - precision_1: 0.9612 - val_loss: 0.3784 - val_precision_1: 0.9612\n",
      "Epoch 35/50\n",
      "25701/25701 [==============================] - 5s 195us/step - loss: 0.3760 - precision_1: 0.9612 - val_loss: 0.3772 - val_precision_1: 0.9611\n",
      "Epoch 36/50\n",
      "25701/25701 [==============================] - 5s 200us/step - loss: 0.3753 - precision_1: 0.9612 - val_loss: 0.3765 - val_precision_1: 0.9611\n",
      "Epoch 37/50\n",
      "25701/25701 [==============================] - 6s 215us/step - loss: 0.3753 - precision_1: 0.9610 - val_loss: 0.3775 - val_precision_1: 0.9610\n",
      "Epoch 38/50\n",
      "25701/25701 [==============================] - 6s 218us/step - loss: 0.3752 - precision_1: 0.9609 - val_loss: 0.3773 - val_precision_1: 0.9607\n",
      "Epoch 39/50\n",
      "25701/25701 [==============================] - 6s 216us/step - loss: 0.3751 - precision_1: 0.9605 - val_loss: 0.3787 - val_precision_1: 0.9604\n",
      "Epoch 40/50\n",
      "25701/25701 [==============================] - 6s 216us/step - loss: 0.3753 - precision_1: 0.9602 - val_loss: 0.3766 - val_precision_1: 0.9603\n",
      "Epoch 41/50\n",
      "25701/25701 [==============================] - 6s 228us/step - loss: 0.3745 - precision_1: 0.9603 - val_loss: 0.3801 - val_precision_1: 0.9604\n",
      "Epoch 42/50\n",
      "25701/25701 [==============================] - 5s 206us/step - loss: 0.3752 - precision_1: 0.9604 - val_loss: 0.3765 - val_precision_1: 0.9604\n",
      "Epoch 43/50\n",
      "25701/25701 [==============================] - 6s 227us/step - loss: 0.3751 - precision_1: 0.9604 - val_loss: 0.3780 - val_precision_1: 0.9603\n",
      "Epoch 44/50\n",
      "25701/25701 [==============================] - 6s 235us/step - loss: 0.3751 - precision_1: 0.9603 - val_loss: 0.3765 - val_precision_1: 0.9602\n",
      "Epoch 45/50\n",
      "25701/25701 [==============================] - 6s 225us/step - loss: 0.3751 - precision_1: 0.9602 - val_loss: 0.3769 - val_precision_1: 0.9601\n",
      "Epoch 46/50\n",
      "25701/25701 [==============================] - 6s 221us/step - loss: 0.3748 - precision_1: 0.9601 - val_loss: 0.3772 - val_precision_1: 0.9602\n",
      "Epoch 47/50\n",
      "25701/25701 [==============================] - 5s 209us/step - loss: 0.3748 - precision_1: 0.9602 - val_loss: 0.3770 - val_precision_1: 0.9601\n",
      "Epoch 48/50\n",
      "25701/25701 [==============================] - 6s 224us/step - loss: 0.3743 - precision_1: 0.9601 - val_loss: 0.3786 - val_precision_1: 0.9601\n",
      "Epoch 49/50\n",
      "25701/25701 [==============================] - 5s 203us/step - loss: 0.3741 - precision_1: 0.9601 - val_loss: 0.3756 - val_precision_1: 0.9600\n",
      "Epoch 50/50\n",
      "25701/25701 [==============================] - 6s 241us/step - loss: 0.3745 - precision_1: 0.9600 - val_loss: 0.3760 - val_precision_1: 0.9599\n"
     ]
    }
   ],
   "source": [
    "# Fitting the ANN to the Training set\n",
    "history = ann_classifier.fit(X_train, Y_train, batch_size = 10, epochs = 50, verbose = 1, validation_data=(X_test, Y_test))\n",
    "\n"
   ]
  },
  {
   "cell_type": "code",
   "execution_count": 162,
   "metadata": {},
   "outputs": [
    {
     "name": "stdout",
     "output_type": "stream",
     "text": [
      "dict_keys(['val_loss', 'val_precision_1', 'loss', 'precision_1'])\n"
     ]
    }
   ],
   "source": [
    "print(history.history.keys())\n"
   ]
  },
  {
   "cell_type": "code",
   "execution_count": 163,
   "metadata": {},
   "outputs": [
    {
     "data": {
      "image/png": "[encoded data removed]",
      "text/plain": [
       "<Figure size 432x288 with 1 Axes>"
      ]
     },
     "metadata": {
      "needs_background": "light"
     },
     "output_type": "display_data"
    }
   ],
   "source": [
    "plt.plot(history.history['precision_1'])\n",
    "plt.plot(history.history['val_precision_1'])\n",
    "plt.title('model accuracy')\n",
    "plt.ylabel('precision')\n",
    "plt.xlabel('epoch')\n",
    "plt.legend(['train', 'test'], loc='upper left')\n",
    "plt.show()"
   ]
  },
  {
   "cell_type": "code",
   "execution_count": 164,
   "metadata": {},
   "outputs": [
    {
     "data": {
      "image/png": "[encoded data removed]",
      "text/plain": [
       "<Figure size 432x288 with 1 Axes>"
      ]
     },
     "metadata": {
      "needs_background": "light"
     },
     "output_type": "display_data"
    }
   ],
   "source": [
    "# summarize history for loss\n",
    "plt.plot(history.history['loss'])\n",
    "plt.plot(history.history['val_loss'])\n",
    "plt.title('model loss')\n",
    "plt.ylabel('loss')\n",
    "plt.xlabel('epoch')\n",
    "plt.legend(['train', 'test'], loc='upper left')\n",
    "plt.show()"
   ]
  },
  {
   "cell_type": "code",
   "execution_count": 157,
   "metadata": {},
   "outputs": [
    {
     "name": "stdout",
     "output_type": "stream",
     "text": [
      "11015/11015 [==============================] - 0s 22us/step\n"
     ]
    },
    {
     "data": {
      "text/plain": [
       "[0.3824681696178044, 0.9598391056060791]"
      ]
     },
     "execution_count": 157,
     "metadata": {},
     "output_type": "execute_result"
    }
   ],
   "source": [
    "prediction = ann_classifier.predict(X_test)\n",
    "prediction = (prediction>0.5)\n",
    "score = ann_classifier.evaluate(X_test, Y_test)\n",
    "score"
   ]
  },
  {
   "cell_type": "code",
   "execution_count": 165,
   "metadata": {},
   "outputs": [
    {
     "name": "stdout",
     "output_type": "stream",
     "text": [
      "Precision score 0.9830124575311439\n",
      "[[6584   45]\n",
      " [1782 2604]]\n",
      "              precision    recall  f1-score   support\n",
      "\n",
      "           0       0.79      0.99      0.88      6629\n",
      "           1       0.98      0.59      0.74      4386\n",
      "\n",
      "    accuracy                           0.83     11015\n",
      "   macro avg       0.89      0.79      0.81     11015\n",
      "weighted avg       0.87      0.83      0.82     11015\n",
      "\n"
     ]
    }
   ],
   "source": [
    "precision = precision_score(Y_test, prediction)\n",
    "print('Precision score {}'.format(precision))\n",
    "print(confusion_matrix(Y_test, prediction))\n",
    "print(classification_report(Y_test, prediction))"
   ]
  },
  {
   "cell_type": "code",
   "execution_count": null,
   "metadata": {},
   "outputs": [],
   "source": []
  },
  {
   "cell_type": "code",
   "execution_count": null,
   "metadata": {},
   "outputs": [],
   "source": []
  },
  {
   "cell_type": "code",
   "execution_count": null,
   "metadata": {},
   "outputs": [],
   "source": []
  }
 ],
 "metadata": {
  "kernelspec": {
   "display_name": "Python 3",
   "language": "python",
   "name": "python3"
  },
  "language_info": {
   "codemirror_mode": {
    "name": "ipython",
    "version": 3
   },
   "file_extension": ".py",
   "mimetype": "text/x-python",
   "name": "python",
   "nbconvert_exporter": "python",
   "pygments_lexer": "ipython3",
   "version": "3.8.0"
  }
 },
 "nbformat": 4,
 "nbformat_minor": 4
}
