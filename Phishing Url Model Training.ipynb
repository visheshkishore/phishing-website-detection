{
 "cells": [
  {
   "cell_type": "markdown",
   "metadata": {},
   "source": [
    "### 1. OBJECTIVE"
   ]
  },
  {
   "cell_type": "markdown",
   "metadata": {},
   "source": [
    "A phishing website is a common social engineering method that mimics trustful uniform resource locators (URLs) and webpages. The objective of this project is to train machine learning models and deep neural nets on the dataset created to predict phishing websites. Both phishing and benign URLs of websites are gathered to form a dataset and from them required URL and website content-based features are extracted. The performance level of each model is measures and compared."
   ]
  },
  {
   "cell_type": "code",
   "execution_count": 25,
   "metadata": {},
   "outputs": [],
   "source": [
    "import pandas as pd\n",
    "import numpy as np\n",
    "import seaborn as sns\n",
    "import matplotlib.pyplot as plt\n",
    "import sklearn"
   ]
  },
  {
   "cell_type": "code",
   "execution_count": null,
   "metadata": {},
   "outputs": [],
   "source": [
    "legitimate = pd.read_csv"
   ]
  },
  {
   "cell_type": "code",
   "execution_count": 2,
   "metadata": {},
   "outputs": [],
   "source": [
    "urldata = pd.read_csv('urldata.csv')"
   ]
  },
  {
   "cell_type": "code",
   "execution_count": 8,
   "metadata": {},
   "outputs": [
    {
     "data": {
      "text/html": [
       "<div>\n",
       "<style scoped>\n",
       "    .dataframe tbody tr th:only-of-type {\n",
       "        vertical-align: middle;\n",
       "    }\n",
       "\n",
       "    .dataframe tbody tr th {\n",
       "        vertical-align: top;\n",
       "    }\n",
       "\n",
       "    .dataframe thead th {\n",
       "        text-align: right;\n",
       "    }\n",
       "</style>\n",
       "<table border=\"1\" class=\"dataframe\">\n",
       "  <thead>\n",
       "    <tr style=\"text-align: right;\">\n",
       "      <th></th>\n",
       "      <th>Domain</th>\n",
       "      <th>IP</th>\n",
       "      <th>Have@</th>\n",
       "      <th>URL_Length</th>\n",
       "      <th>URL_Depth</th>\n",
       "      <th>Redirection</th>\n",
       "      <th>https_Domain</th>\n",
       "      <th>TinyURL</th>\n",
       "      <th>Prefix/Suffix</th>\n",
       "      <th>Mouse_over</th>\n",
       "      <th>Web_forwarding</th>\n",
       "      <th>Right_click</th>\n",
       "      <th>Label</th>\n",
       "    </tr>\n",
       "  </thead>\n",
       "  <tbody>\n",
       "    <tr>\n",
       "      <th>0</th>\n",
       "      <td>graphicriver.net</td>\n",
       "      <td>0</td>\n",
       "      <td>0</td>\n",
       "      <td>1</td>\n",
       "      <td>1</td>\n",
       "      <td>0</td>\n",
       "      <td>0</td>\n",
       "      <td>0</td>\n",
       "      <td>0</td>\n",
       "      <td>1</td>\n",
       "      <td>1</td>\n",
       "      <td>1</td>\n",
       "      <td>0</td>\n",
       "    </tr>\n",
       "    <tr>\n",
       "      <th>1</th>\n",
       "      <td>ecnavi.jp</td>\n",
       "      <td>0</td>\n",
       "      <td>0</td>\n",
       "      <td>1</td>\n",
       "      <td>1</td>\n",
       "      <td>1</td>\n",
       "      <td>0</td>\n",
       "      <td>0</td>\n",
       "      <td>0</td>\n",
       "      <td>1</td>\n",
       "      <td>1</td>\n",
       "      <td>1</td>\n",
       "      <td>0</td>\n",
       "    </tr>\n",
       "    <tr>\n",
       "      <th>2</th>\n",
       "      <td>hubpages.com</td>\n",
       "      <td>0</td>\n",
       "      <td>0</td>\n",
       "      <td>1</td>\n",
       "      <td>1</td>\n",
       "      <td>0</td>\n",
       "      <td>0</td>\n",
       "      <td>0</td>\n",
       "      <td>0</td>\n",
       "      <td>1</td>\n",
       "      <td>1</td>\n",
       "      <td>1</td>\n",
       "      <td>0</td>\n",
       "    </tr>\n",
       "    <tr>\n",
       "      <th>3</th>\n",
       "      <td>extratorrent.cc</td>\n",
       "      <td>0</td>\n",
       "      <td>0</td>\n",
       "      <td>1</td>\n",
       "      <td>3</td>\n",
       "      <td>0</td>\n",
       "      <td>0</td>\n",
       "      <td>0</td>\n",
       "      <td>0</td>\n",
       "      <td>1</td>\n",
       "      <td>1</td>\n",
       "      <td>1</td>\n",
       "      <td>0</td>\n",
       "    </tr>\n",
       "    <tr>\n",
       "      <th>4</th>\n",
       "      <td>icicibank.com</td>\n",
       "      <td>0</td>\n",
       "      <td>0</td>\n",
       "      <td>1</td>\n",
       "      <td>3</td>\n",
       "      <td>0</td>\n",
       "      <td>0</td>\n",
       "      <td>0</td>\n",
       "      <td>0</td>\n",
       "      <td>1</td>\n",
       "      <td>1</td>\n",
       "      <td>1</td>\n",
       "      <td>0</td>\n",
       "    </tr>\n",
       "    <tr>\n",
       "      <th>5</th>\n",
       "      <td>nypost.com</td>\n",
       "      <td>0</td>\n",
       "      <td>0</td>\n",
       "      <td>1</td>\n",
       "      <td>4</td>\n",
       "      <td>0</td>\n",
       "      <td>0</td>\n",
       "      <td>1</td>\n",
       "      <td>0</td>\n",
       "      <td>1</td>\n",
       "      <td>1</td>\n",
       "      <td>1</td>\n",
       "      <td>0</td>\n",
       "    </tr>\n",
       "    <tr>\n",
       "      <th>6</th>\n",
       "      <td>kienthuc.net.vn</td>\n",
       "      <td>0</td>\n",
       "      <td>0</td>\n",
       "      <td>1</td>\n",
       "      <td>2</td>\n",
       "      <td>0</td>\n",
       "      <td>0</td>\n",
       "      <td>0</td>\n",
       "      <td>0</td>\n",
       "      <td>1</td>\n",
       "      <td>1</td>\n",
       "      <td>1</td>\n",
       "      <td>0</td>\n",
       "    </tr>\n",
       "    <tr>\n",
       "      <th>7</th>\n",
       "      <td>thenextweb.com</td>\n",
       "      <td>0</td>\n",
       "      <td>0</td>\n",
       "      <td>1</td>\n",
       "      <td>6</td>\n",
       "      <td>0</td>\n",
       "      <td>0</td>\n",
       "      <td>0</td>\n",
       "      <td>0</td>\n",
       "      <td>1</td>\n",
       "      <td>1</td>\n",
       "      <td>1</td>\n",
       "      <td>0</td>\n",
       "    </tr>\n",
       "    <tr>\n",
       "      <th>8</th>\n",
       "      <td>tobogo.net</td>\n",
       "      <td>0</td>\n",
       "      <td>0</td>\n",
       "      <td>1</td>\n",
       "      <td>2</td>\n",
       "      <td>0</td>\n",
       "      <td>0</td>\n",
       "      <td>0</td>\n",
       "      <td>0</td>\n",
       "      <td>1</td>\n",
       "      <td>1</td>\n",
       "      <td>1</td>\n",
       "      <td>0</td>\n",
       "    </tr>\n",
       "    <tr>\n",
       "      <th>9</th>\n",
       "      <td>akhbarelyom.com</td>\n",
       "      <td>0</td>\n",
       "      <td>0</td>\n",
       "      <td>1</td>\n",
       "      <td>5</td>\n",
       "      <td>0</td>\n",
       "      <td>0</td>\n",
       "      <td>0</td>\n",
       "      <td>0</td>\n",
       "      <td>1</td>\n",
       "      <td>1</td>\n",
       "      <td>1</td>\n",
       "      <td>0</td>\n",
       "    </tr>\n",
       "  </tbody>\n",
       "</table>\n",
       "</div>"
      ],
      "text/plain": [
       "             Domain  IP  Have@  URL_Length  URL_Depth  Redirection  \\\n",
       "0  graphicriver.net   0      0           1          1            0   \n",
       "1         ecnavi.jp   0      0           1          1            1   \n",
       "2      hubpages.com   0      0           1          1            0   \n",
       "3   extratorrent.cc   0      0           1          3            0   \n",
       "4     icicibank.com   0      0           1          3            0   \n",
       "5        nypost.com   0      0           1          4            0   \n",
       "6   kienthuc.net.vn   0      0           1          2            0   \n",
       "7    thenextweb.com   0      0           1          6            0   \n",
       "8        tobogo.net   0      0           1          2            0   \n",
       "9   akhbarelyom.com   0      0           1          5            0   \n",
       "\n",
       "   https_Domain  TinyURL  Prefix/Suffix  Mouse_over  Web_forwarding  \\\n",
       "0             0        0              0           1               1   \n",
       "1             0        0              0           1               1   \n",
       "2             0        0              0           1               1   \n",
       "3             0        0              0           1               1   \n",
       "4             0        0              0           1               1   \n",
       "5             0        1              0           1               1   \n",
       "6             0        0              0           1               1   \n",
       "7             0        0              0           1               1   \n",
       "8             0        0              0           1               1   \n",
       "9             0        0              0           1               1   \n",
       "\n",
       "   Right_click  Label  \n",
       "0            1      0  \n",
       "1            1      0  \n",
       "2            1      0  \n",
       "3            1      0  \n",
       "4            1      0  \n",
       "5            1      0  \n",
       "6            1      0  \n",
       "7            1      0  \n",
       "8            1      0  \n",
       "9            1      0  "
      ]
     },
     "execution_count": 8,
     "metadata": {},
     "output_type": "execute_result"
    }
   ],
   "source": [
    "urldata.head(10)"
   ]
  },
  {
   "cell_type": "code",
   "execution_count": 5,
   "metadata": {},
   "outputs": [
    {
     "data": {
      "text/plain": [
       "(36716, 13)"
      ]
     },
     "execution_count": 5,
     "metadata": {},
     "output_type": "execute_result"
    }
   ],
   "source": [
    "urldata.shape"
   ]
  },
  {
   "cell_type": "code",
   "execution_count": 11,
   "metadata": {},
   "outputs": [
    {
     "data": {
      "text/plain": [
       "Index(['Domain', 'IP', 'Have@', 'URL_Length', 'URL_Depth', 'Redirection',\n",
       "       'https_Domain', 'TinyURL', 'Prefix/Suffix', 'Mouse_over',\n",
       "       'Web_forwarding', 'Right_click', 'Label'],\n",
       "      dtype='object')"
      ]
     },
     "execution_count": 11,
     "metadata": {},
     "output_type": "execute_result"
    }
   ],
   "source": [
    "urldata.columns"
   ]
  },
  {
   "cell_type": "code",
   "execution_count": 12,
   "metadata": {},
   "outputs": [
    {
     "name": "stdout",
     "output_type": "stream",
     "text": [
      "<class 'pandas.core.frame.DataFrame'>\n",
      "RangeIndex: 36716 entries, 0 to 36715\n",
      "Data columns (total 13 columns):\n",
      " #   Column          Non-Null Count  Dtype \n",
      "---  ------          --------------  ----- \n",
      " 0   Domain          36716 non-null  object\n",
      " 1   IP              36716 non-null  int64 \n",
      " 2   Have@           36716 non-null  int64 \n",
      " 3   URL_Length      36716 non-null  int64 \n",
      " 4   URL_Depth       36716 non-null  int64 \n",
      " 5   Redirection     36716 non-null  int64 \n",
      " 6   https_Domain    36716 non-null  int64 \n",
      " 7   TinyURL         36716 non-null  int64 \n",
      " 8   Prefix/Suffix   36716 non-null  int64 \n",
      " 9   Mouse_over      36716 non-null  int64 \n",
      " 10  Web_forwarding  36716 non-null  int64 \n",
      " 11  Right_click     36716 non-null  int64 \n",
      " 12  Label           36716 non-null  int64 \n",
      "dtypes: int64(12), object(1)\n",
      "memory usage: 3.6+ MB\n"
     ]
    }
   ],
   "source": [
    "urldata.info()"
   ]
  },
  {
   "cell_type": "markdown",
   "metadata": {},
   "source": [
    "## Visualizing the features "
   ]
  },
  {
   "cell_type": "code",
   "execution_count": 13,
   "metadata": {},
   "outputs": [
    {
     "data": {
      "image/png": "[encoded data removed]",
      "text/plain": [
       "<Figure size 936x936 with 12 Axes>"
      ]
     },
     "metadata": {
      "needs_background": "light"
     },
     "output_type": "display_data"
    }
   ],
   "source": [
    "#Plotting the data distribution\n",
    "urldata.hist(bins = 20,figsize = (13,13))\n",
    "plt.show()"
   ]
  },
  {
   "cell_type": "code",
   "execution_count": 14,
   "metadata": {},
   "outputs": [
    {
     "data": {
      "image/png": "[encoded data removed]",
      "text/plain": [
       "<Figure size 1080x936 with 2 Axes>"
      ]
     },
     "metadata": {
      "needs_background": "light"
     },
     "output_type": "display_data"
    }
   ],
   "source": [
    "# correlation matrix\n",
    "# matrix = np.triu(urldata.corr())\n",
    "\n",
    "temp_df = urldata.drop(['IP','Mouse_over','Web_forwarding', 'Right_click'], axis=1)\n",
    "\n",
    "plt.figure(figsize=(15,13))\n",
    "sns.heatmap(temp_df.corr(), cmap=\"YlGnBu\", annot=True)\n",
    "plt.show()"
   ]
  },
  {
   "cell_type": "code",
   "execution_count": 15,
   "metadata": {},
   "outputs": [
    {
     "data": {
      "text/html": [
       "<div>\n",
       "<style scoped>\n",
       "    .dataframe tbody tr th:only-of-type {\n",
       "        vertical-align: middle;\n",
       "    }\n",
       "\n",
       "    .dataframe tbody tr th {\n",
       "        vertical-align: top;\n",
       "    }\n",
       "\n",
       "    .dataframe thead th {\n",
       "        text-align: right;\n",
       "    }\n",
       "</style>\n",
       "<table border=\"1\" class=\"dataframe\">\n",
       "  <thead>\n",
       "    <tr style=\"text-align: right;\">\n",
       "      <th></th>\n",
       "      <th>count</th>\n",
       "      <th>mean</th>\n",
       "      <th>std</th>\n",
       "      <th>min</th>\n",
       "      <th>25%</th>\n",
       "      <th>50%</th>\n",
       "      <th>75%</th>\n",
       "      <th>max</th>\n",
       "    </tr>\n",
       "  </thead>\n",
       "  <tbody>\n",
       "    <tr>\n",
       "      <th>IP</th>\n",
       "      <td>36716.0</td>\n",
       "      <td>0.000000</td>\n",
       "      <td>0.000000</td>\n",
       "      <td>0.0</td>\n",
       "      <td>0.0</td>\n",
       "      <td>0.0</td>\n",
       "      <td>0.0</td>\n",
       "      <td>0.0</td>\n",
       "    </tr>\n",
       "    <tr>\n",
       "      <th>Have@</th>\n",
       "      <td>36716.0</td>\n",
       "      <td>0.020127</td>\n",
       "      <td>0.140438</td>\n",
       "      <td>0.0</td>\n",
       "      <td>0.0</td>\n",
       "      <td>0.0</td>\n",
       "      <td>0.0</td>\n",
       "      <td>1.0</td>\n",
       "    </tr>\n",
       "    <tr>\n",
       "      <th>URL_Length</th>\n",
       "      <td>36716.0</td>\n",
       "      <td>0.815802</td>\n",
       "      <td>0.387651</td>\n",
       "      <td>0.0</td>\n",
       "      <td>1.0</td>\n",
       "      <td>1.0</td>\n",
       "      <td>1.0</td>\n",
       "      <td>1.0</td>\n",
       "    </tr>\n",
       "    <tr>\n",
       "      <th>URL_Depth</th>\n",
       "      <td>36716.0</td>\n",
       "      <td>3.106302</td>\n",
       "      <td>2.109208</td>\n",
       "      <td>0.0</td>\n",
       "      <td>2.0</td>\n",
       "      <td>3.0</td>\n",
       "      <td>4.0</td>\n",
       "      <td>38.0</td>\n",
       "    </tr>\n",
       "    <tr>\n",
       "      <th>Redirection</th>\n",
       "      <td>36716.0</td>\n",
       "      <td>0.012447</td>\n",
       "      <td>0.110871</td>\n",
       "      <td>0.0</td>\n",
       "      <td>0.0</td>\n",
       "      <td>0.0</td>\n",
       "      <td>0.0</td>\n",
       "      <td>1.0</td>\n",
       "    </tr>\n",
       "    <tr>\n",
       "      <th>https_Domain</th>\n",
       "      <td>36716.0</td>\n",
       "      <td>0.000163</td>\n",
       "      <td>0.012783</td>\n",
       "      <td>0.0</td>\n",
       "      <td>0.0</td>\n",
       "      <td>0.0</td>\n",
       "      <td>0.0</td>\n",
       "      <td>1.0</td>\n",
       "    </tr>\n",
       "    <tr>\n",
       "      <th>TinyURL</th>\n",
       "      <td>36716.0</td>\n",
       "      <td>0.088218</td>\n",
       "      <td>0.283615</td>\n",
       "      <td>0.0</td>\n",
       "      <td>0.0</td>\n",
       "      <td>0.0</td>\n",
       "      <td>0.0</td>\n",
       "      <td>1.0</td>\n",
       "    </tr>\n",
       "    <tr>\n",
       "      <th>Prefix/Suffix</th>\n",
       "      <td>36716.0</td>\n",
       "      <td>0.078140</td>\n",
       "      <td>0.268396</td>\n",
       "      <td>0.0</td>\n",
       "      <td>0.0</td>\n",
       "      <td>0.0</td>\n",
       "      <td>0.0</td>\n",
       "      <td>1.0</td>\n",
       "    </tr>\n",
       "    <tr>\n",
       "      <th>Mouse_over</th>\n",
       "      <td>36716.0</td>\n",
       "      <td>1.000000</td>\n",
       "      <td>0.000000</td>\n",
       "      <td>1.0</td>\n",
       "      <td>1.0</td>\n",
       "      <td>1.0</td>\n",
       "      <td>1.0</td>\n",
       "      <td>1.0</td>\n",
       "    </tr>\n",
       "    <tr>\n",
       "      <th>Web_forwarding</th>\n",
       "      <td>36716.0</td>\n",
       "      <td>1.000000</td>\n",
       "      <td>0.000000</td>\n",
       "      <td>1.0</td>\n",
       "      <td>1.0</td>\n",
       "      <td>1.0</td>\n",
       "      <td>1.0</td>\n",
       "      <td>1.0</td>\n",
       "    </tr>\n",
       "    <tr>\n",
       "      <th>Right_click</th>\n",
       "      <td>36716.0</td>\n",
       "      <td>1.000000</td>\n",
       "      <td>0.000000</td>\n",
       "      <td>1.0</td>\n",
       "      <td>1.0</td>\n",
       "      <td>1.0</td>\n",
       "      <td>1.0</td>\n",
       "      <td>1.0</td>\n",
       "    </tr>\n",
       "    <tr>\n",
       "      <th>Label</th>\n",
       "      <td>36716.0</td>\n",
       "      <td>0.404674</td>\n",
       "      <td>0.490835</td>\n",
       "      <td>0.0</td>\n",
       "      <td>0.0</td>\n",
       "      <td>0.0</td>\n",
       "      <td>1.0</td>\n",
       "      <td>1.0</td>\n",
       "    </tr>\n",
       "  </tbody>\n",
       "</table>\n",
       "</div>"
      ],
      "text/plain": [
       "                  count      mean       std  min  25%  50%  75%   max\n",
       "IP              36716.0  0.000000  0.000000  0.0  0.0  0.0  0.0   0.0\n",
       "Have@           36716.0  0.020127  0.140438  0.0  0.0  0.0  0.0   1.0\n",
       "URL_Length      36716.0  0.815802  0.387651  0.0  1.0  1.0  1.0   1.0\n",
       "URL_Depth       36716.0  3.106302  2.109208  0.0  2.0  3.0  4.0  38.0\n",
       "Redirection     36716.0  0.012447  0.110871  0.0  0.0  0.0  0.0   1.0\n",
       "https_Domain    36716.0  0.000163  0.012783  0.0  0.0  0.0  0.0   1.0\n",
       "TinyURL         36716.0  0.088218  0.283615  0.0  0.0  0.0  0.0   1.0\n",
       "Prefix/Suffix   36716.0  0.078140  0.268396  0.0  0.0  0.0  0.0   1.0\n",
       "Mouse_over      36716.0  1.000000  0.000000  1.0  1.0  1.0  1.0   1.0\n",
       "Web_forwarding  36716.0  1.000000  0.000000  1.0  1.0  1.0  1.0   1.0\n",
       "Right_click     36716.0  1.000000  0.000000  1.0  1.0  1.0  1.0   1.0\n",
       "Label           36716.0  0.404674  0.490835  0.0  0.0  0.0  1.0   1.0"
      ]
     },
     "execution_count": 15,
     "metadata": {},
     "output_type": "execute_result"
    }
   ],
   "source": [
    "urldata.describe().T"
   ]
  },
  {
   "cell_type": "code",
   "execution_count": 20,
   "metadata": {},
   "outputs": [
    {
     "data": {
      "text/plain": [
       "Domain            0\n",
       "IP                0\n",
       "Have@             0\n",
       "URL_Length        0\n",
       "URL_Depth         0\n",
       "Redirection       0\n",
       "https_Domain      0\n",
       "TinyURL           0\n",
       "Prefix/Suffix     0\n",
       "Mouse_over        0\n",
       "Web_forwarding    0\n",
       "Right_click       0\n",
       "Label             0\n",
       "dtype: int64"
      ]
     },
     "execution_count": 20,
     "metadata": {},
     "output_type": "execute_result"
    }
   ],
   "source": [
    "urldata.isnull().sum()"
   ]
  },
  {
   "cell_type": "code",
   "execution_count": 16,
   "metadata": {},
   "outputs": [],
   "source": [
    "label_count = pd.DataFrame(urldata.Label.value_counts())"
   ]
  },
  {
   "cell_type": "code",
   "execution_count": 17,
   "metadata": {},
   "outputs": [
    {
     "data": {
      "text/plain": [
       "<AxesSubplot:ylabel='Label'>"
      ]
     },
     "execution_count": 17,
     "metadata": {},
     "output_type": "execute_result"
    },
    {
     "data": {
      "image/png": "[encoded data removed]",
      "text/plain": [
       "<Figure size 432x288 with 1 Axes>"
      ]
     },
     "metadata": {
      "needs_background": "light"
     },
     "output_type": "display_data"
    }
   ],
   "source": [
    "sns.barplot(label_count.index, label_count.Label)"
   ]
  },
  {
   "cell_type": "markdown",
   "metadata": {},
   "source": [
    "### Shuffling the data in dataset so that when we split data is equally disctributed for training\n"
   ]
  },
  {
   "cell_type": "code",
   "execution_count": 41,
   "metadata": {},
   "outputs": [
    {
     "data": {
      "text/html": [
       "<div>\n",
       "<style scoped>\n",
       "    .dataframe tbody tr th:only-of-type {\n",
       "        vertical-align: middle;\n",
       "    }\n",
       "\n",
       "    .dataframe tbody tr th {\n",
       "        vertical-align: top;\n",
       "    }\n",
       "\n",
       "    .dataframe thead th {\n",
       "        text-align: right;\n",
       "    }\n",
       "</style>\n",
       "<table border=\"1\" class=\"dataframe\">\n",
       "  <thead>\n",
       "    <tr style=\"text-align: right;\">\n",
       "      <th></th>\n",
       "      <th>IP</th>\n",
       "      <th>Have@</th>\n",
       "      <th>URL_Length</th>\n",
       "      <th>URL_Depth</th>\n",
       "      <th>Redirection</th>\n",
       "      <th>https_Domain</th>\n",
       "      <th>TinyURL</th>\n",
       "      <th>Prefix/Suffix</th>\n",
       "      <th>Mouse_over</th>\n",
       "      <th>Web_forwarding</th>\n",
       "      <th>Right_click</th>\n",
       "      <th>Label</th>\n",
       "    </tr>\n",
       "  </thead>\n",
       "  <tbody>\n",
       "    <tr>\n",
       "      <th>0</th>\n",
       "      <td>0</td>\n",
       "      <td>0</td>\n",
       "      <td>1</td>\n",
       "      <td>3</td>\n",
       "      <td>0</td>\n",
       "      <td>0</td>\n",
       "      <td>1</td>\n",
       "      <td>0</td>\n",
       "      <td>1</td>\n",
       "      <td>1</td>\n",
       "      <td>1</td>\n",
       "      <td>0</td>\n",
       "    </tr>\n",
       "    <tr>\n",
       "      <th>1</th>\n",
       "      <td>0</td>\n",
       "      <td>0</td>\n",
       "      <td>1</td>\n",
       "      <td>3</td>\n",
       "      <td>0</td>\n",
       "      <td>0</td>\n",
       "      <td>0</td>\n",
       "      <td>0</td>\n",
       "      <td>1</td>\n",
       "      <td>1</td>\n",
       "      <td>1</td>\n",
       "      <td>0</td>\n",
       "    </tr>\n",
       "    <tr>\n",
       "      <th>2</th>\n",
       "      <td>0</td>\n",
       "      <td>0</td>\n",
       "      <td>1</td>\n",
       "      <td>3</td>\n",
       "      <td>0</td>\n",
       "      <td>0</td>\n",
       "      <td>0</td>\n",
       "      <td>0</td>\n",
       "      <td>1</td>\n",
       "      <td>1</td>\n",
       "      <td>1</td>\n",
       "      <td>0</td>\n",
       "    </tr>\n",
       "    <tr>\n",
       "      <th>3</th>\n",
       "      <td>0</td>\n",
       "      <td>0</td>\n",
       "      <td>1</td>\n",
       "      <td>4</td>\n",
       "      <td>0</td>\n",
       "      <td>0</td>\n",
       "      <td>1</td>\n",
       "      <td>0</td>\n",
       "      <td>1</td>\n",
       "      <td>1</td>\n",
       "      <td>1</td>\n",
       "      <td>0</td>\n",
       "    </tr>\n",
       "    <tr>\n",
       "      <th>4</th>\n",
       "      <td>0</td>\n",
       "      <td>0</td>\n",
       "      <td>1</td>\n",
       "      <td>3</td>\n",
       "      <td>0</td>\n",
       "      <td>0</td>\n",
       "      <td>1</td>\n",
       "      <td>0</td>\n",
       "      <td>1</td>\n",
       "      <td>1</td>\n",
       "      <td>1</td>\n",
       "      <td>0</td>\n",
       "    </tr>\n",
       "  </tbody>\n",
       "</table>\n",
       "</div>"
      ],
      "text/plain": [
       "   IP  Have@  URL_Length  URL_Depth  Redirection  https_Domain  TinyURL  \\\n",
       "0   0      0           1          3            0             0        1   \n",
       "1   0      0           1          3            0             0        0   \n",
       "2   0      0           1          3            0             0        0   \n",
       "3   0      0           1          4            0             0        1   \n",
       "4   0      0           1          3            0             0        1   \n",
       "\n",
       "   Prefix/Suffix  Mouse_over  Web_forwarding  Right_click  Label  \n",
       "0              0           1               1            1      0  \n",
       "1              0           1               1            1      0  \n",
       "2              0           1               1            1      0  \n",
       "3              0           1               1            1      0  \n",
       "4              0           1               1            1      0  "
      ]
     },
     "execution_count": 41,
     "metadata": {},
     "output_type": "execute_result"
    }
   ],
   "source": [
    "urldata = urldata.sample(frac=1).reset_index(drop=True)\n",
    "urldata.head()"
   ]
  },
  {
   "cell_type": "markdown",
   "metadata": {},
   "source": [
    "## Splitting the data for training and testing\n"
   ]
  },
  {
   "cell_type": "code",
   "execution_count": 42,
   "metadata": {},
   "outputs": [],
   "source": [
    "X = urldata.drop(['Label'], axis=True)\n",
    "Y = urldata['Label']"
   ]
  },
  {
   "cell_type": "code",
   "execution_count": 43,
   "metadata": {},
   "outputs": [
    {
     "data": {
      "text/plain": [
       "((36716, 11), (36716,))"
      ]
     },
     "execution_count": 43,
     "metadata": {},
     "output_type": "execute_result"
    }
   ],
   "source": [
    "X.shape, Y.shape"
   ]
  },
  {
   "cell_type": "code",
   "execution_count": 155,
   "metadata": {},
   "outputs": [
    {
     "data": {
      "text/plain": [
       "((25701, 11), (11015, 11))"
      ]
     },
     "execution_count": 155,
     "metadata": {},
     "output_type": "execute_result"
    }
   ],
   "source": [
    "from sklearn.model_selection import train_test_split\n",
    "\n",
    "X_train, X_test, Y_train, Y_test = train_test_split(X, Y, \n",
    "                                                    test_size = 0.3, random_state = 1)\n",
    "X_train.shape, X_test.shape"
   ]
  },
  {
   "cell_type": "markdown",
   "metadata": {},
   "source": [
    "## Machine Learning Model and Training "
   ]
  },
  {
   "cell_type": "code",
   "execution_count": 156,
   "metadata": {},
   "outputs": [],
   "source": [
    "from sklearn.metrics import accuracy_score"
   ]
  },
  {
   "cell_type": "code",
   "execution_count": 157,
   "metadata": {},
   "outputs": [],
   "source": [
    "# Creating holders to store the model performance results\n",
    "ML_Model = []\n",
    "acc_train = []\n",
    "acc_test = []\n",
    "\n",
    "#function to call for storing the results\n",
    "def storeResults(model, a,b):\n",
    "  ML_Model.append(model)\n",
    "  acc_train.append(round(a, 3))\n",
    "  acc_test.append(round(b, 3))"
   ]
  },
  {
   "cell_type": "markdown",
   "metadata": {},
   "source": [
    "### Model 1: Logistic Regression"
   ]
  },
  {
   "cell_type": "code",
   "execution_count": 158,
   "metadata": {},
   "outputs": [
    {
     "name": "stderr",
     "output_type": "stream",
     "text": [
      "/Library/Frameworks/Python.framework/Versions/3.8/lib/python3.8/site-packages/sklearn/linear_model/_logistic.py:762: ConvergenceWarning: lbfgs failed to converge (status=1):\n",
      "STOP: TOTAL NO. of ITERATIONS REACHED LIMIT.\n",
      "\n",
      "Increase the number of iterations (max_iter) or scale the data as shown in:\n",
      "    https://scikit-learn.org/stable/modules/preprocessing.html\n",
      "Please also refer to the documentation for alternative solver options:\n",
      "    https://scikit-learn.org/stable/modules/linear_model.html#logistic-regression\n",
      "  n_iter_i = _check_optimize_result(\n"
     ]
    },
    {
     "data": {
      "text/plain": [
       "LogisticRegression()"
      ]
     },
     "execution_count": 158,
     "metadata": {},
     "output_type": "execute_result"
    }
   ],
   "source": [
    "from sklearn.linear_model import LogisticRegression\n",
    "\n",
    "logreg = LogisticRegression()\n",
    "logreg.fit(X_train, Y_train)"
   ]
  },
  {
   "cell_type": "code",
   "execution_count": 159,
   "metadata": {},
   "outputs": [],
   "source": [
    "#predicting the target value from the model for the samples\n",
    "y_test_log = tree.predict(X_test)\n",
    "y_train_log = tree.predict(X_train)"
   ]
  },
  {
   "cell_type": "markdown",
   "metadata": {},
   "source": [
    "#### Performance Evaluation"
   ]
  },
  {
   "cell_type": "code",
   "execution_count": 160,
   "metadata": {},
   "outputs": [
    {
     "name": "stdout",
     "output_type": "stream",
     "text": [
      "Logistic Regression: Accuracy on training Data: 0.830\n",
      "Logistic Regression: Accuracy on test Data: 0.832\n"
     ]
    }
   ],
   "source": [
    "#computing the accuracy of the model performance\n",
    "acc_train_log = accuracy_score(Y_train,y_train_log)\n",
    "acc_test_log = accuracy_score(Y_test,y_test_log)\n",
    "\n",
    "print(\"Logistic Regression: Accuracy on training Data: {:.3f}\".format(acc_train_log))\n",
    "print(\"Logistic Regression: Accuracy on test Data: {:.3f}\".format(acc_test_log))\n",
    "\n"
   ]
  },
  {
   "cell_type": "markdown",
   "metadata": {},
   "source": [
    "### Model 2: Decision Tree"
   ]
  },
  {
   "cell_type": "code",
   "execution_count": 161,
   "metadata": {},
   "outputs": [
    {
     "data": {
      "text/plain": [
       "DecisionTreeClassifier(max_depth=5)"
      ]
     },
     "execution_count": 161,
     "metadata": {},
     "output_type": "execute_result"
    }
   ],
   "source": [
    "from sklearn.tree import DecisionTreeClassifier\n",
    "\n",
    "# instantiate the model \n",
    "tree = DecisionTreeClassifier(max_depth = 5)\n",
    "# fit the model \n",
    "tree.fit(X_train, Y_train)"
   ]
  },
  {
   "cell_type": "code",
   "execution_count": 162,
   "metadata": {},
   "outputs": [],
   "source": [
    "#predicting the target value from the model for the samples\n",
    "y_test_tree = tree.predict(X_test)\n",
    "y_train_tree = tree.predict(X_train)"
   ]
  },
  {
   "cell_type": "markdown",
   "metadata": {},
   "source": [
    "#### Performance Evaluation"
   ]
  },
  {
   "cell_type": "code",
   "execution_count": 163,
   "metadata": {},
   "outputs": [
    {
     "name": "stdout",
     "output_type": "stream",
     "text": [
      "Decision Tree: Accuracy on training Data: 0.830\n",
      "Decision Tree: Accuracy on test Data: 0.832\n"
     ]
    }
   ],
   "source": [
    "#computing the accuracy of the model performance\n",
    "acc_train_tree = accuracy_score(Y_train,y_train_tree)\n",
    "acc_test_tree = accuracy_score(Y_test,y_test_tree)\n",
    "\n",
    "print(\"Decision Tree: Accuracy on training Data: {:.3f}\".format(acc_train_tree))\n",
    "print(\"Decision Tree: Accuracy on test Data: {:.3f}\".format(acc_test_tree))\n"
   ]
  },
  {
   "cell_type": "code",
   "execution_count": 164,
   "metadata": {},
   "outputs": [
    {
     "data": {
      "image/png": "[encoded data removed]",
      "text/plain": [
       "<Figure size 648x504 with 1 Axes>"
      ]
     },
     "metadata": {
      "needs_background": "light"
     },
     "output_type": "display_data"
    }
   ],
   "source": [
    "#checking the feature improtance in the model\n",
    "plt.figure(figsize=(9,7))\n",
    "n_features = X_train.shape[1]\n",
    "plt.barh(range(n_features), tree.feature_importances_, align='center')\n",
    "plt.yticks(np.arange(n_features), X_train.columns)\n",
    "plt.xlabel(\"Feature importance\")\n",
    "plt.ylabel(\"Feature\")\n",
    "plt.show()"
   ]
  },
  {
   "cell_type": "markdown",
   "metadata": {},
   "source": [
    "### Model 3: Random Forest"
   ]
  },
  {
   "cell_type": "code",
   "execution_count": 165,
   "metadata": {},
   "outputs": [
    {
     "data": {
      "text/plain": [
       "RandomForestClassifier(max_depth=5)"
      ]
     },
     "execution_count": 165,
     "metadata": {},
     "output_type": "execute_result"
    }
   ],
   "source": [
    "from sklearn.ensemble import RandomForestClassifier\n",
    "\n",
    "# instantiate the model\n",
    "forest = RandomForestClassifier(max_depth=5)\n",
    "\n",
    "# fit the model \n",
    "forest.fit(X_train, Y_train)"
   ]
  },
  {
   "cell_type": "code",
   "execution_count": 166,
   "metadata": {},
   "outputs": [],
   "source": [
    "#predicting the target value from the model for the samples\n",
    "y_test_forest = forest.predict(X_test)\n",
    "y_train_forest = forest.predict(X_train)"
   ]
  },
  {
   "cell_type": "code",
   "execution_count": 167,
   "metadata": {},
   "outputs": [
    {
     "name": "stdout",
     "output_type": "stream",
     "text": [
      "Random forest: Accuracy on training Data: 0.830\n",
      "Random forest: Accuracy on test Data: 0.832\n"
     ]
    }
   ],
   "source": [
    "#computing the accuracy of the model performance\n",
    "acc_train_forest = accuracy_score(Y_train,y_train_forest)\n",
    "acc_test_forest = accuracy_score(Y_test,y_test_forest)\n",
    "\n",
    "print(\"Random forest: Accuracy on training Data: {:.3f}\".format(acc_train_forest))\n",
    "print(\"Random forest: Accuracy on test Data: {:.3f}\".format(acc_test_forest))"
   ]
  },
  {
   "cell_type": "code",
   "execution_count": 168,
   "metadata": {},
   "outputs": [
    {
     "data": {
      "image/png": "[encoded data removed]",
      "text/plain": [
       "<Figure size 648x504 with 1 Axes>"
      ]
     },
     "metadata": {
      "needs_background": "light"
     },
     "output_type": "display_data"
    }
   ],
   "source": [
    "#checking the feature improtance in the model\n",
    "plt.figure(figsize=(9,7))\n",
    "n_features = X_train.shape[1]\n",
    "plt.barh(range(n_features), forest.feature_importances_, align='center')\n",
    "plt.yticks(np.arange(n_features), X_train.columns)\n",
    "plt.xlabel(\"Feature importance\")\n",
    "plt.ylabel(\"Feature\")\n",
    "plt.show()"
   ]
  },
  {
   "cell_type": "markdown",
   "metadata": {},
   "source": [
    "### Model 4: MultiLayer Perceptron\n"
   ]
  },
  {
   "cell_type": "code",
   "execution_count": 173,
   "metadata": {},
   "outputs": [
    {
     "data": {
      "text/plain": [
       "MLPClassifier(alpha=0.005, hidden_layer_sizes=[100, 100, 100])"
      ]
     },
     "execution_count": 173,
     "metadata": {},
     "output_type": "execute_result"
    }
   ],
   "source": [
    "# Multilayer Perceptrons model\n",
    "from sklearn.neural_network import MLPClassifier\n",
    "\n",
    "# instantiate the model\n",
    "mlp = MLPClassifier(alpha=0.005, hidden_layer_sizes=([100,100,100]))\n",
    "\n",
    "# fit the model \n",
    "mlp.fit(X_train, Y_train)"
   ]
  },
  {
   "cell_type": "code",
   "execution_count": 174,
   "metadata": {},
   "outputs": [],
   "source": [
    "#predicting the target value from the model for the samples\n",
    "y_test_mlp = mlp.predict(X_test)\n",
    "y_train_mlp = mlp.predict(X_train)"
   ]
  },
  {
   "cell_type": "code",
   "execution_count": 175,
   "metadata": {},
   "outputs": [
    {
     "name": "stdout",
     "output_type": "stream",
     "text": [
      "Multilayer Perceptrons: Accuracy on training Data: 0.840\n",
      "Multilayer Perceptrons: Accuracy on test Data: 0.841\n"
     ]
    }
   ],
   "source": [
    "#computing the accuracy of the model performance\n",
    "acc_train_mlp = accuracy_score(Y_train,y_train_mlp)\n",
    "acc_test_mlp = accuracy_score(Y_test,y_test_mlp)\n",
    "\n",
    "print(\"Multilayer Perceptrons: Accuracy on training Data: {:.3f}\".format(acc_train_mlp))\n",
    "print(\"Multilayer Perceptrons: Accuracy on test Data: {:.3f}\".format(acc_test_mlp))\n"
   ]
  },
  {
   "cell_type": "code",
   "execution_count": 177,
   "metadata": {},
   "outputs": [
    {
     "name": "stdout",
     "output_type": "stream",
     "text": [
      "Average precision-recall score: 0.75\n"
     ]
    }
   ],
   "source": [
    "from sklearn.metrics import average_precision_score\n",
    "average_precision = average_precision_score(Y_test, y_test_mlp )\n",
    "\n",
    "print('Average precision-recall score: {0:0.2f}'.format(\n",
    "      average_precision))"
   ]
  },
  {
   "cell_type": "code",
   "execution_count": 178,
   "metadata": {},
   "outputs": [
    {
     "data": {
      "text/plain": [
       "Text(0.5, 1.0, '2-class Precision-Recall curve: AP=0.75')"
      ]
     },
     "execution_count": 178,
     "metadata": {},
     "output_type": "execute_result"
    },
    {
     "data": {
      "image/png": "[encoded data removed]",
      "text/plain": [
       "<Figure size 432x288 with 1 Axes>"
      ]
     },
     "metadata": {
      "needs_background": "light"
     },
     "output_type": "display_data"
    }
   ],
   "source": [
    "from sklearn.metrics import precision_recall_curve\n",
    "from sklearn.metrics import plot_precision_recall_curve\n",
    "import matplotlib.pyplot as plt\n",
    "\n",
    "disp = plot_precision_recall_curve(mlp, X_test, Y_test)\n",
    "disp.ax_.set_title('2-class Precision-Recall curve: '\n",
    "                   'AP={0:0.2f}'.format(average_precision))"
   ]
  },
  {
   "cell_type": "markdown",
   "metadata": {},
   "source": [
    "### Trying to improve the predictive performance with Neural Networks\n"
   ]
  },
  {
   "cell_type": "code",
   "execution_count": 180,
   "metadata": {},
   "outputs": [
    {
     "name": "stderr",
     "output_type": "stream",
     "text": [
      "Using TensorFlow backend.\n"
     ]
    }
   ],
   "source": [
    "#Applying neural network using tensorflow and keras\n",
    "import tensorflow as tf\n",
    "from tensorflow import keras\n",
    "from keras.models import Sequential\n",
    "from keras.layers import Dense"
   ]
  },
  {
   "cell_type": "code",
   "execution_count": 224,
   "metadata": {},
   "outputs": [],
   "source": [
    "#Initializing the ANN\n",
    "ann_classifier = Sequential()\n",
    "\n",
    "#Adding the input layer and first hidden layer\n",
    "ann_classifier.add(Dense(units=50, kernel_initializer='uniform', activation='relu', input_dim=11))\n",
    "\n",
    "# Adding the second hidden layer\n",
    "ann_classifier.add(Dense(units=30, kernel_initializer = 'uniform', activation = 'relu'))\n",
    "\n",
    "#Adding the output layer\n",
    "ann_classifier.add(Dense(units=1, kernel_initializer = 'uniform', activation = 'sigmoid'))\n",
    "\n",
    "# Compiling the ANN\n",
    "ann_classifier.compile(optimizer = 'adam', loss = 'binary_crossentropy', metrics = ['accuracy'])\n",
    "\n"
   ]
  },
  {
   "cell_type": "code",
   "execution_count": 225,
   "metadata": {},
   "outputs": [
    {
     "name": "stdout",
     "output_type": "stream",
     "text": [
      "Train on 25701 samples, validate on 11015 samples\n",
      "Epoch 1/100\n",
      "25701/25701 [==============================] - 5s 206us/step - loss: 0.4253 - accuracy: 0.8138 - val_loss: 0.4004 - val_accuracy: 0.8303\n",
      "Epoch 2/100\n",
      "25701/25701 [==============================] - 5s 185us/step - loss: 0.4000 - accuracy: 0.8241 - val_loss: 0.3951 - val_accuracy: 0.8308\n",
      "Epoch 3/100\n",
      "25701/25701 [==============================] - 5s 188us/step - loss: 0.3941 - accuracy: 0.8269 - val_loss: 0.3897 - val_accuracy: 0.8328\n",
      "Epoch 4/100\n",
      "25701/25701 [==============================] - 5s 187us/step - loss: 0.3906 - accuracy: 0.8288 - val_loss: 0.3993 - val_accuracy: 0.8311\n",
      "Epoch 5/100\n",
      "25701/25701 [==============================] - 5s 186us/step - loss: 0.3889 - accuracy: 0.8288 - val_loss: 0.3870 - val_accuracy: 0.8330\n",
      "Epoch 6/100\n",
      "25701/25701 [==============================] - 5s 188us/step - loss: 0.3882 - accuracy: 0.8290 - val_loss: 0.3892 - val_accuracy: 0.8338\n",
      "Epoch 7/100\n",
      "25701/25701 [==============================] - 5s 186us/step - loss: 0.3874 - accuracy: 0.8295 - val_loss: 0.3847 - val_accuracy: 0.8329\n",
      "Epoch 8/100\n",
      "25701/25701 [==============================] - 5s 188us/step - loss: 0.3869 - accuracy: 0.8303 - val_loss: 0.3855 - val_accuracy: 0.8327\n",
      "Epoch 9/100\n",
      "25701/25701 [==============================] - 6s 217us/step - loss: 0.3862 - accuracy: 0.8299 - val_loss: 0.3861 - val_accuracy: 0.8338\n",
      "Epoch 10/100\n",
      "25701/25701 [==============================] - 8s 320us/step - loss: 0.3860 - accuracy: 0.8303 - val_loss: 0.3839 - val_accuracy: 0.8320\n",
      "Epoch 11/100\n",
      "25701/25701 [==============================] - 8s 301us/step - loss: 0.3856 - accuracy: 0.8302 - val_loss: 0.3851 - val_accuracy: 0.8351\n",
      "Epoch 12/100\n",
      "25701/25701 [==============================] - 7s 279us/step - loss: 0.3849 - accuracy: 0.8293 - val_loss: 0.3828 - val_accuracy: 0.8340\n",
      "Epoch 13/100\n",
      "25701/25701 [==============================] - 11s 411us/step - loss: 0.3854 - accuracy: 0.8312 - val_loss: 0.3839 - val_accuracy: 0.8339\n",
      "Epoch 14/100\n",
      "25701/25701 [==============================] - 7s 281us/step - loss: 0.3840 - accuracy: 0.8321 - val_loss: 0.3868 - val_accuracy: 0.8292\n",
      "Epoch 15/100\n",
      "25701/25701 [==============================] - 7s 283us/step - loss: 0.3844 - accuracy: 0.8314 - val_loss: 0.3824 - val_accuracy: 0.8355\n",
      "Epoch 16/100\n",
      "25701/25701 [==============================] - 8s 312us/step - loss: 0.3834 - accuracy: 0.8310 - val_loss: 0.3857 - val_accuracy: 0.8333\n",
      "Epoch 17/100\n",
      "25701/25701 [==============================] - 6s 219us/step - loss: 0.3838 - accuracy: 0.8311 - val_loss: 0.3825 - val_accuracy: 0.8326\n",
      "Epoch 18/100\n",
      "25701/25701 [==============================] - 6s 229us/step - loss: 0.3824 - accuracy: 0.8320 - val_loss: 0.3828 - val_accuracy: 0.8350\n",
      "Epoch 19/100\n",
      "25701/25701 [==============================] - 5s 198us/step - loss: 0.3820 - accuracy: 0.8311 - val_loss: 0.3809 - val_accuracy: 0.8350\n",
      "Epoch 20/100\n",
      "25701/25701 [==============================] - 5s 200us/step - loss: 0.3815 - accuracy: 0.8318 - val_loss: 0.3830 - val_accuracy: 0.8337\n",
      "Epoch 21/100\n",
      "25701/25701 [==============================] - 5s 183us/step - loss: 0.3804 - accuracy: 0.8318 - val_loss: 0.3841 - val_accuracy: 0.8343\n",
      "Epoch 22/100\n",
      "25701/25701 [==============================] - 6s 226us/step - loss: 0.3808 - accuracy: 0.8321 - val_loss: 0.3788 - val_accuracy: 0.8350\n",
      "Epoch 23/100\n",
      "25701/25701 [==============================] - 6s 229us/step - loss: 0.3800 - accuracy: 0.8313 - val_loss: 0.3862 - val_accuracy: 0.8209\n",
      "Epoch 24/100\n",
      "25701/25701 [==============================] - 6s 240us/step - loss: 0.3802 - accuracy: 0.8308 - val_loss: 0.3833 - val_accuracy: 0.8349\n",
      "Epoch 25/100\n",
      "25701/25701 [==============================] - 9s 331us/step - loss: 0.3803 - accuracy: 0.8321 - val_loss: 0.3783 - val_accuracy: 0.8353\n",
      "Epoch 26/100\n",
      "25701/25701 [==============================] - 8s 304us/step - loss: 0.3794 - accuracy: 0.8320 - val_loss: 0.3818 - val_accuracy: 0.8311\n",
      "Epoch 27/100\n",
      "25701/25701 [==============================] - 7s 266us/step - loss: 0.3796 - accuracy: 0.8330 - val_loss: 0.3786 - val_accuracy: 0.8355\n",
      "Epoch 28/100\n",
      "25701/25701 [==============================] - 5s 195us/step - loss: 0.3790 - accuracy: 0.8323 - val_loss: 0.3801 - val_accuracy: 0.8340\n",
      "Epoch 29/100\n",
      "25701/25701 [==============================] - 5s 209us/step - loss: 0.3790 - accuracy: 0.8317 - val_loss: 0.3824 - val_accuracy: 0.8345\n",
      "Epoch 30/100\n",
      "25701/25701 [==============================] - 6s 253us/step - loss: 0.3786 - accuracy: 0.8329 - val_loss: 0.3795 - val_accuracy: 0.8338\n",
      "Epoch 31/100\n",
      "25701/25701 [==============================] - 6s 231us/step - loss: 0.3788 - accuracy: 0.8331 - val_loss: 0.3790 - val_accuracy: 0.8350\n",
      "Epoch 32/100\n",
      "25701/25701 [==============================] - 8s 307us/step - loss: 0.3784 - accuracy: 0.8326 - val_loss: 0.3818 - val_accuracy: 0.8380\n",
      "Epoch 33/100\n",
      "25701/25701 [==============================] - 7s 256us/step - loss: 0.3789 - accuracy: 0.8332 - val_loss: 0.3786 - val_accuracy: 0.8353\n",
      "Epoch 34/100\n",
      "25701/25701 [==============================] - 5s 203us/step - loss: 0.3787 - accuracy: 0.8338 - val_loss: 0.3793 - val_accuracy: 0.8351\n",
      "Epoch 35/100\n",
      "25701/25701 [==============================] - 5s 193us/step - loss: 0.3781 - accuracy: 0.8340 - val_loss: 0.3778 - val_accuracy: 0.8349\n",
      "Epoch 36/100\n",
      "25701/25701 [==============================] - 4s 175us/step - loss: 0.3782 - accuracy: 0.8337 - val_loss: 0.3785 - val_accuracy: 0.8354\n",
      "Epoch 37/100\n",
      "25701/25701 [==============================] - 5s 177us/step - loss: 0.3780 - accuracy: 0.8343 - val_loss: 0.3789 - val_accuracy: 0.8378\n",
      "Epoch 38/100\n",
      "25701/25701 [==============================] - 5s 176us/step - loss: 0.3783 - accuracy: 0.8338 - val_loss: 0.3787 - val_accuracy: 0.8353\n",
      "Epoch 39/100\n",
      "25701/25701 [==============================] - 5s 179us/step - loss: 0.3778 - accuracy: 0.8346 - val_loss: 0.3804 - val_accuracy: 0.8335\n",
      "Epoch 40/100\n",
      "25701/25701 [==============================] - 4s 172us/step - loss: 0.3776 - accuracy: 0.8338 - val_loss: 0.3779 - val_accuracy: 0.8350\n",
      "Epoch 41/100\n",
      "25701/25701 [==============================] - 5s 184us/step - loss: 0.3773 - accuracy: 0.8356 - val_loss: 0.3828 - val_accuracy: 0.8369\n",
      "Epoch 42/100\n",
      "25701/25701 [==============================] - 4s 175us/step - loss: 0.3783 - accuracy: 0.8355 - val_loss: 0.3757 - val_accuracy: 0.8393\n",
      "Epoch 43/100\n",
      "25701/25701 [==============================] - 5s 176us/step - loss: 0.3767 - accuracy: 0.8352 - val_loss: 0.3800 - val_accuracy: 0.8386\n",
      "Epoch 44/100\n",
      "25701/25701 [==============================] - 4s 174us/step - loss: 0.3768 - accuracy: 0.8356 - val_loss: 0.3770 - val_accuracy: 0.8390\n",
      "Epoch 45/100\n",
      "25701/25701 [==============================] - 4s 174us/step - loss: 0.3767 - accuracy: 0.8358 - val_loss: 0.3759 - val_accuracy: 0.8380\n",
      "Epoch 46/100\n",
      "25701/25701 [==============================] - 4s 173us/step - loss: 0.3763 - accuracy: 0.8357 - val_loss: 0.3804 - val_accuracy: 0.8398\n",
      "Epoch 47/100\n",
      "25701/25701 [==============================] - 5s 209us/step - loss: 0.3762 - accuracy: 0.8365 - val_loss: 0.3769 - val_accuracy: 0.8388\n",
      "Epoch 48/100\n",
      "25701/25701 [==============================] - 5s 176us/step - loss: 0.3768 - accuracy: 0.8358 - val_loss: 0.3778 - val_accuracy: 0.8352\n",
      "Epoch 49/100\n",
      "25701/25701 [==============================] - 5s 178us/step - loss: 0.3761 - accuracy: 0.8372 - val_loss: 0.3973 - val_accuracy: 0.8315\n",
      "Epoch 50/100\n",
      "25701/25701 [==============================] - 4s 174us/step - loss: 0.3762 - accuracy: 0.8369 - val_loss: 0.3754 - val_accuracy: 0.8378\n",
      "Epoch 51/100\n",
      "25701/25701 [==============================] - 5s 176us/step - loss: 0.3764 - accuracy: 0.8363 - val_loss: 0.3793 - val_accuracy: 0.8315\n",
      "Epoch 52/100\n",
      "25701/25701 [==============================] - 5s 184us/step - loss: 0.3761 - accuracy: 0.8364 - val_loss: 0.3760 - val_accuracy: 0.8403\n",
      "Epoch 53/100\n",
      "25701/25701 [==============================] - 4s 175us/step - loss: 0.3762 - accuracy: 0.8375 - val_loss: 0.3769 - val_accuracy: 0.8371\n",
      "Epoch 54/100\n",
      "25701/25701 [==============================] - 4s 172us/step - loss: 0.3758 - accuracy: 0.8365 - val_loss: 0.3752 - val_accuracy: 0.8385\n",
      "Epoch 55/100\n"
     ]
    },
    {
     "name": "stdout",
     "output_type": "stream",
     "text": [
      "25701/25701 [==============================] - 5s 176us/step - loss: 0.3757 - accuracy: 0.8371 - val_loss: 0.3758 - val_accuracy: 0.8399\n",
      "Epoch 56/100\n",
      "25701/25701 [==============================] - 4s 175us/step - loss: 0.3751 - accuracy: 0.8365 - val_loss: 0.3752 - val_accuracy: 0.8417\n",
      "Epoch 57/100\n",
      "25701/25701 [==============================] - 5s 176us/step - loss: 0.3756 - accuracy: 0.8376 - val_loss: 0.3765 - val_accuracy: 0.8394\n",
      "Epoch 58/100\n",
      "25701/25701 [==============================] - 5s 175us/step - loss: 0.3750 - accuracy: 0.8370 - val_loss: 0.3790 - val_accuracy: 0.8387\n",
      "Epoch 59/100\n",
      "25701/25701 [==============================] - 5s 175us/step - loss: 0.3755 - accuracy: 0.8373 - val_loss: 0.3764 - val_accuracy: 0.8365\n",
      "Epoch 60/100\n",
      "25701/25701 [==============================] - 5s 184us/step - loss: 0.3756 - accuracy: 0.8373 - val_loss: 0.3759 - val_accuracy: 0.8415\n",
      "Epoch 61/100\n",
      "25701/25701 [==============================] - 4s 175us/step - loss: 0.3745 - accuracy: 0.8377 - val_loss: 0.3760 - val_accuracy: 0.8411\n",
      "Epoch 62/100\n",
      "25701/25701 [==============================] - 4s 175us/step - loss: 0.3756 - accuracy: 0.8369 - val_loss: 0.3740 - val_accuracy: 0.8415\n",
      "Epoch 63/100\n",
      "25701/25701 [==============================] - 4s 175us/step - loss: 0.3746 - accuracy: 0.8368 - val_loss: 0.3735 - val_accuracy: 0.8376\n",
      "Epoch 64/100\n",
      "25701/25701 [==============================] - 4s 175us/step - loss: 0.3747 - accuracy: 0.8376 - val_loss: 0.3768 - val_accuracy: 0.8394\n",
      "Epoch 65/100\n",
      "25701/25701 [==============================] - 5s 185us/step - loss: 0.3751 - accuracy: 0.8368 - val_loss: 0.3749 - val_accuracy: 0.8363\n",
      "Epoch 66/100\n",
      "25701/25701 [==============================] - 4s 173us/step - loss: 0.3745 - accuracy: 0.8368 - val_loss: 0.3868 - val_accuracy: 0.8330\n",
      "Epoch 67/100\n",
      "25701/25701 [==============================] - 5s 175us/step - loss: 0.3746 - accuracy: 0.8382 - val_loss: 0.3746 - val_accuracy: 0.8374\n",
      "Epoch 68/100\n",
      "25701/25701 [==============================] - 5s 176us/step - loss: 0.3749 - accuracy: 0.8376 - val_loss: 0.3739 - val_accuracy: 0.8409\n",
      "Epoch 69/100\n",
      "25701/25701 [==============================] - 5s 176us/step - loss: 0.3744 - accuracy: 0.8376 - val_loss: 0.3757 - val_accuracy: 0.8399\n",
      "Epoch 70/100\n",
      "25701/25701 [==============================] - 5s 183us/step - loss: 0.3744 - accuracy: 0.8372 - val_loss: 0.3739 - val_accuracy: 0.8416\n",
      "Epoch 71/100\n",
      "25701/25701 [==============================] - 4s 174us/step - loss: 0.3742 - accuracy: 0.8383 - val_loss: 0.3743 - val_accuracy: 0.8410\n",
      "Epoch 72/100\n",
      "25701/25701 [==============================] - 5s 178us/step - loss: 0.3746 - accuracy: 0.8381 - val_loss: 0.3757 - val_accuracy: 0.8372\n",
      "Epoch 73/100\n",
      "25701/25701 [==============================] - 6s 217us/step - loss: 0.3745 - accuracy: 0.8372 - val_loss: 0.3773 - val_accuracy: 0.8408\n",
      "Epoch 74/100\n",
      "25701/25701 [==============================] - 5s 190us/step - loss: 0.3749 - accuracy: 0.8374 - val_loss: 0.3751 - val_accuracy: 0.8371\n",
      "Epoch 75/100\n",
      "25701/25701 [==============================] - 5s 191us/step - loss: 0.3736 - accuracy: 0.8380 - val_loss: 0.3778 - val_accuracy: 0.8376\n",
      "Epoch 76/100\n",
      "25701/25701 [==============================] - 5s 214us/step - loss: 0.3741 - accuracy: 0.8380 - val_loss: 0.3745 - val_accuracy: 0.8371\n",
      "Epoch 77/100\n",
      "25701/25701 [==============================] - 6s 222us/step - loss: 0.3736 - accuracy: 0.8385 - val_loss: 0.3749 - val_accuracy: 0.8414\n",
      "Epoch 78/100\n",
      "25701/25701 [==============================] - 5s 210us/step - loss: 0.3744 - accuracy: 0.8377 - val_loss: 0.3754 - val_accuracy: 0.8355\n",
      "Epoch 79/100\n",
      "25701/25701 [==============================] - 6s 251us/step - loss: 0.3743 - accuracy: 0.8365 - val_loss: 0.3740 - val_accuracy: 0.8398\n",
      "Epoch 80/100\n",
      "25701/25701 [==============================] - 5s 185us/step - loss: 0.3745 - accuracy: 0.8372 - val_loss: 0.3753 - val_accuracy: 0.8414\n",
      "Epoch 81/100\n",
      "25701/25701 [==============================] - 7s 266us/step - loss: 0.3738 - accuracy: 0.8385 - val_loss: 0.3737 - val_accuracy: 0.8368\n",
      "Epoch 82/100\n",
      "25701/25701 [==============================] - 6s 249us/step - loss: 0.3738 - accuracy: 0.8379 - val_loss: 0.3742 - val_accuracy: 0.8416\n",
      "Epoch 83/100\n",
      "25701/25701 [==============================] - 6s 252us/step - loss: 0.3739 - accuracy: 0.8381 - val_loss: 0.3745 - val_accuracy: 0.8393\n",
      "Epoch 84/100\n",
      "25701/25701 [==============================] - 6s 235us/step - loss: 0.3743 - accuracy: 0.8378 - val_loss: 0.3738 - val_accuracy: 0.8409\n",
      "Epoch 85/100\n",
      "25701/25701 [==============================] - 5s 189us/step - loss: 0.3738 - accuracy: 0.8381 - val_loss: 0.3735 - val_accuracy: 0.8416\n",
      "Epoch 86/100\n",
      "25701/25701 [==============================] - 6s 214us/step - loss: 0.3733 - accuracy: 0.8377 - val_loss: 0.3746 - val_accuracy: 0.8370\n",
      "Epoch 87/100\n",
      "25701/25701 [==============================] - 7s 272us/step - loss: 0.3739 - accuracy: 0.8379 - val_loss: 0.3759 - val_accuracy: 0.8410\n",
      "Epoch 88/100\n",
      "25701/25701 [==============================] - 7s 274us/step - loss: 0.3744 - accuracy: 0.8375 - val_loss: 0.3732 - val_accuracy: 0.8416\n",
      "Epoch 89/100\n",
      "25701/25701 [==============================] - 5s 198us/step - loss: 0.3732 - accuracy: 0.8383 - val_loss: 0.3734 - val_accuracy: 0.8371\n",
      "Epoch 90/100\n",
      "25701/25701 [==============================] - 5s 198us/step - loss: 0.3736 - accuracy: 0.8379 - val_loss: 0.3766 - val_accuracy: 0.8397\n",
      "Epoch 91/100\n",
      "25701/25701 [==============================] - 5s 197us/step - loss: 0.3737 - accuracy: 0.8375 - val_loss: 0.3741 - val_accuracy: 0.8416\n",
      "Epoch 92/100\n",
      "25701/25701 [==============================] - 5s 197us/step - loss: 0.3733 - accuracy: 0.8384 - val_loss: 0.3737 - val_accuracy: 0.8397\n",
      "Epoch 93/100\n",
      "25701/25701 [==============================] - 5s 198us/step - loss: 0.3741 - accuracy: 0.8368 - val_loss: 0.3727 - val_accuracy: 0.8412\n",
      "Epoch 94/100\n",
      "25701/25701 [==============================] - 5s 193us/step - loss: 0.3732 - accuracy: 0.8376 - val_loss: 0.3752 - val_accuracy: 0.8411\n",
      "Epoch 95/100\n",
      "25701/25701 [==============================] - 5s 194us/step - loss: 0.3740 - accuracy: 0.8373 - val_loss: 0.3739 - val_accuracy: 0.8416\n",
      "Epoch 96/100\n",
      "25701/25701 [==============================] - 5s 194us/step - loss: 0.3734 - accuracy: 0.8381 - val_loss: 0.3746 - val_accuracy: 0.8417\n",
      "Epoch 97/100\n",
      "25701/25701 [==============================] - 5s 203us/step - loss: 0.3737 - accuracy: 0.8375 - val_loss: 0.3730 - val_accuracy: 0.8415\n",
      "Epoch 98/100\n",
      "25701/25701 [==============================] - 6s 220us/step - loss: 0.3739 - accuracy: 0.8380 - val_loss: 0.3740 - val_accuracy: 0.8370\n",
      "Epoch 99/100\n",
      "25701/25701 [==============================] - 5s 195us/step - loss: 0.3733 - accuracy: 0.8376 - val_loss: 0.3747 - val_accuracy: 0.8417\n",
      "Epoch 100/100\n",
      "25701/25701 [==============================] - 5s 197us/step - loss: 0.3733 - accuracy: 0.8384 - val_loss: 0.3727 - val_accuracy: 0.8413\n",
      "11015/11015 [==============================] - 0s 25us/step\n",
      "\n",
      "Accuracy score of the Neural Network with basic hyperparameter settings 60.13%\n"
     ]
    }
   ],
   "source": [
    "# Fitting the ANN to the Training set\n",
    "history = ann_classifier.fit(X_train, Y_train, batch_size = 10, epochs = 100, verbose = 1, validation_data=(X_test, Y_test))\n",
    "\n",
    "scores = model.evaluate(X_test, Y_test)\n",
    "print('\\nAccuracy score of the Neural Network with basic hyperparameter settings {0:.2f}%'.format(scores[1]*100))"
   ]
  },
  {
   "cell_type": "code",
   "execution_count": 221,
   "metadata": {},
   "outputs": [
    {
     "name": "stdout",
     "output_type": "stream",
     "text": [
      "dict_keys(['val_loss', 'val_accuracy', 'loss', 'accuracy'])\n"
     ]
    }
   ],
   "source": [
    "print(history.history.keys())\n"
   ]
  },
  {
   "cell_type": "code",
   "execution_count": 222,
   "metadata": {},
   "outputs": [
    {
     "data": {
      "image/png": "[encoded data removed]",
      "text/plain": [
       "<Figure size 432x288 with 1 Axes>"
      ]
     },
     "metadata": {
      "needs_background": "light"
     },
     "output_type": "display_data"
    }
   ],
   "source": [
    "plt.plot(history.history['accuracy'])\n",
    "plt.plot(history.history['val_accuracy'])\n",
    "plt.title('model accuracy')\n",
    "plt.ylabel('precision')\n",
    "plt.xlabel('epoch')\n",
    "plt.legend(['train', 'test'], loc='upper left')\n",
    "plt.show()"
   ]
  },
  {
   "cell_type": "code",
   "execution_count": 223,
   "metadata": {},
   "outputs": [
    {
     "data": {
      "image/png": "[encoded data removed]",
      "text/plain": [
       "<Figure size 432x288 with 1 Axes>"
      ]
     },
     "metadata": {
      "needs_background": "light"
     },
     "output_type": "display_data"
    }
   ],
   "source": [
    "# summarize history for loss\n",
    "plt.plot(history.history['loss'])\n",
    "plt.plot(history.history['val_loss'])\n",
    "plt.title('model loss')\n",
    "plt.ylabel('loss')\n",
    "plt.xlabel('epoch')\n",
    "plt.legend(['train', 'test'], loc='upper left')\n",
    "plt.show()"
   ]
  },
  {
   "cell_type": "code",
   "execution_count": null,
   "metadata": {},
   "outputs": [],
   "source": []
  }
 ],
 "metadata": {
  "kernelspec": {
   "display_name": "Python 3",
   "language": "python",
   "name": "python3"
  },
  "language_info": {
   "codemirror_mode": {
    "name": "ipython",
    "version": 3
   },
   "file_extension": ".py",
   "mimetype": "text/x-python",
   "name": "python",
   "nbconvert_exporter": "python",
   "pygments_lexer": "ipython3",
   "version": "3.8.0"
  }
 },
 "nbformat": 4,
 "nbformat_minor": 4
}
